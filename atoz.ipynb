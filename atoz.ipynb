{
 "cells": [
  {
   "cell_type": "code",
   "execution_count": 1,
   "id": "954fd7cc",
   "metadata": {},
   "outputs": [
    {
     "name": "stdout",
     "output_type": "stream",
     "text": [
      "********\n",
      "*      *\n",
      "********\n",
      "*      *\n",
      "*      *\n"
     ]
    }
   ],
   "source": [
    "a=1\n",
    "while a<=5:\n",
    "    if a==1:\n",
    "        print(\"********\")\n",
    "    elif a==2:\n",
    "        print(\"*      *\")\n",
    "    elif a==3:\n",
    "        print(\"********\")\n",
    "    elif a==4:\n",
    "        print(\"*      *\")\n",
    "    elif a==5:\n",
    "        print(\"*      *\") \n",
    "    a=a+1"
   ]
  },
  {
   "cell_type": "code",
   "execution_count": 2,
   "id": "1844d139",
   "metadata": {},
   "outputs": [
    {
     "name": "stdout",
     "output_type": "stream",
     "text": [
      "****\n",
      "*   * \n",
      "***\n",
      "*   *\n",
      "****\n"
     ]
    }
   ],
   "source": [
    "a=1\n",
    "while a<=5:\n",
    "    if a==1:\n",
    "        print(\"****\")\n",
    "    elif a==2:\n",
    "        print(\"*   * \")\n",
    "    elif a==3:\n",
    "        print(\"***\")\n",
    "    elif a==4:\n",
    "        print(\"*   *\")\n",
    "    elif a==5:\n",
    "        print(\"****\") \n",
    "    a=a+1"
   ]
  },
  {
   "cell_type": "code",
   "execution_count": 3,
   "id": "0b498e7f",
   "metadata": {},
   "outputs": [
    {
     "name": "stdout",
     "output_type": "stream",
     "text": [
      " ******\n",
      "*\n",
      "*\n",
      "*\n",
      " ******\n"
     ]
    }
   ],
   "source": [
    "a=1\n",
    "while a<=5:\n",
    "    if a==1:\n",
    "        print(\" ******\")\n",
    "    elif a==2:\n",
    "        print(\"*\")\n",
    "    elif a==3:\n",
    "        print(\"*\")\n",
    "    elif a==4:\n",
    "        print(\"*\")\n",
    "    elif a==5:\n",
    "        print(\" ******\") \n",
    "    a=a+1"
   ]
  },
  {
   "cell_type": "code",
   "execution_count": 295,
   "id": "ab99b709",
   "metadata": {},
   "outputs": [
    {
     "name": "stdout",
     "output_type": "stream",
     "text": [
      "**** *\n",
      "*      *\n",
      "*      *\n",
      "*      *\n",
      "**** *\n"
     ]
    }
   ],
   "source": [
    "a=1\n",
    "while a<=10:\n",
    "    if a==1:\n",
    "        print(\"**** *\")\n",
    "    elif a==2:\n",
    "        print(\"*      *\")\n",
    "    elif a==3:\n",
    "        print(\"*      *\")\n",
    "    elif a==4:\n",
    "        print(\"*      *\")\n",
    "    elif a==5:\n",
    "        print(\"**** *\") \n",
    "    a=a+1"
   ]
  },
  {
   "cell_type": "code",
   "execution_count": 312,
   "id": "1bc4169e",
   "metadata": {},
   "outputs": [
    {
     "name": "stdout",
     "output_type": "stream",
     "text": [
      "******\n",
      "*\n",
      "*\n",
      "******\n",
      "*\n",
      "*\n",
      "******\n"
     ]
    }
   ],
   "source": [
    "a=1\n",
    "while a<=10:\n",
    "    if a==1:\n",
    "        print(\"******\")\n",
    "    elif a==2:\n",
    "         print(\"*\")\n",
    "    elif a==3:\n",
    "         print(\"*\")\n",
    "    elif a==4:\n",
    "         print(\"******\")\n",
    "    elif a==5:\n",
    "         print(\"*\")\n",
    "    elif a==6:\n",
    "         print(\"*\")\n",
    "    elif a==7:\n",
    "         print(\"******\")\n",
    "    a=a+1\n",
    "            "
   ]
  },
  {
   "cell_type": "code",
   "execution_count": 6,
   "id": "f1ecefb2",
   "metadata": {},
   "outputs": [
    {
     "name": "stdout",
     "output_type": "stream",
     "text": [
      "*****\n",
      "*\n",
      "*\n",
      "*****\n",
      "*\n",
      "*\n"
     ]
    }
   ],
   "source": [
    "a=1\n",
    "while a<=10:\n",
    "    if a==1:\n",
    "        print(\"*****\")\n",
    "    elif a==2:\n",
    "         print(\"*\")\n",
    "    elif a==3:\n",
    "         print(\"*\")\n",
    "    elif a==4:\n",
    "         print(\"*****\")\n",
    "    elif a==5:\n",
    "         print(\"*\")\n",
    "    elif a==6:\n",
    "         print(\"*\")\n",
    "    a=a+1"
   ]
  },
  {
   "cell_type": "code",
   "execution_count": 322,
   "id": "3716a92a",
   "metadata": {},
   "outputs": [
    {
     "name": "stdout",
     "output_type": "stream",
     "text": [
      " * * * *\n",
      "*\n",
      "*\n",
      "*     ***** \n",
      "*     *   *\n",
      " ******   *\n",
      "          *\n"
     ]
    }
   ],
   "source": [
    "a=1\n",
    "while a<=10:\n",
    "    if a==1:\n",
    "        print(\" * * * *\")\n",
    "    elif a==2:\n",
    "         print(\"*\")\n",
    "    elif a==3:\n",
    "         print(\"*\")\n",
    "    elif a==4: \n",
    "         print(\"*     ***** \")\n",
    "    elif a==5:\n",
    "         print(\"*     *   *\")\n",
    "    elif a==6:\n",
    "         print(\" ******   *\")\n",
    "    elif a==7:\n",
    "         print(\"          *\")\n",
    "    a=a+1"
   ]
  },
  {
   "cell_type": "code",
   "execution_count": 11,
   "id": "6effc974",
   "metadata": {},
   "outputs": [
    {
     "name": "stdout",
     "output_type": "stream",
     "text": [
      "*      *\n",
      "*      *\n",
      "********\n",
      "*      *\n",
      "*      *\n"
     ]
    }
   ],
   "source": [
    "a=1\n",
    "while a<=10:\n",
    "    if a==1:\n",
    "        print(\"*      *\")\n",
    "    elif a==2:\n",
    "         print(\"*      *\")\n",
    "    elif a==3:\n",
    "         print(\"********\")\n",
    "    elif a==4: \n",
    "         print(\"*      *\")\n",
    "    elif a==5:\n",
    "         print(\"*      *\")\n",
    "    a=a+1"
   ]
  },
  {
   "cell_type": "code",
   "execution_count": 8,
   "id": "c690feb7",
   "metadata": {},
   "outputs": [
    {
     "name": "stdout",
     "output_type": "stream",
     "text": [
      "*********\n",
      "    *   \n",
      "    *   \n",
      "    *   \n",
      "*********\n"
     ]
    }
   ],
   "source": [
    "a=1\n",
    "while a<=10:\n",
    "    if a==1:\n",
    "        print(\"*********\")\n",
    "    elif a==2:\n",
    "         print(\"    *   \")\n",
    "    elif a==3:\n",
    "         print(\"    *   \")\n",
    "    elif a==4: \n",
    "         print(\"    *   \")\n",
    "    elif a==5:\n",
    "         print(\"*********\")\n",
    "    a=a+1"
   ]
  },
  {
   "cell_type": "code",
   "execution_count": 20,
   "id": "17207600",
   "metadata": {},
   "outputs": [
    {
     "name": "stdout",
     "output_type": "stream",
     "text": [
      "*********\n",
      "    *   \n",
      "    *   \n",
      "*   *   \n",
      " * *\n"
     ]
    }
   ],
   "source": [
    "a=1\n",
    "while a<=10:\n",
    "    if a==1:\n",
    "        print(\"*********\")\n",
    "    elif a==2:\n",
    "         print(\"    *   \")\n",
    "    elif a==3:\n",
    "         print(\"    *   \")\n",
    "    elif a==4: \n",
    "         print(\"*   *   \")\n",
    "    elif a==5:\n",
    "         print(\" * *\")\n",
    "    a=a+1"
   ]
  },
  {
   "cell_type": "code",
   "execution_count": 55,
   "id": "60384ab9",
   "metadata": {},
   "outputs": [
    {
     "name": "stdout",
     "output_type": "stream",
     "text": [
      "*         *\n",
      "*     *\n",
      "*  *\n",
      "**   \n",
      "*   *\n",
      "*      *\n",
      "*         *\n"
     ]
    }
   ],
   "source": [
    "a=1\n",
    "while a<=10:\n",
    "    if a==1:\n",
    "        print(\"*         *\")\n",
    "    elif a==2:\n",
    "        print(\"*     *\")\n",
    "    elif a==3:\n",
    "         print(\"*  *\")\n",
    "    elif a==4:\n",
    "         print(\"**   \")\n",
    "    elif a==5: \n",
    "         print(\"*   *\")\n",
    "    elif a==6:\n",
    "         print(\"*      *\")\n",
    "    elif a==7:\n",
    "         print(\"*         *\")\n",
    "    a=a+1"
   ]
  },
  {
   "cell_type": "code",
   "execution_count": 57,
   "id": "bebc3a45",
   "metadata": {},
   "outputs": [
    {
     "name": "stdout",
     "output_type": "stream",
     "text": [
      "*\n",
      "*\n",
      "*\n",
      "*\n",
      "********\n"
     ]
    }
   ],
   "source": [
    "a=1\n",
    "while a<=10:\n",
    "    if a==1:\n",
    "        print(\"*\")\n",
    "    elif a==2:\n",
    "         print(\"*\")\n",
    "    elif a==3:\n",
    "         print(\"*\")\n",
    "    elif a==4: \n",
    "         print(\"*\")\n",
    "    elif a==5:\n",
    "         print(\"********\")\n",
    "    a=a+1"
   ]
  },
  {
   "cell_type": "code",
   "execution_count": 74,
   "id": "b73f2edc",
   "metadata": {},
   "outputs": [
    {
     "name": "stdout",
     "output_type": "stream",
     "text": [
      "**       **\n",
      "*  *  *   *\n",
      "*    *    *\n",
      "*         *\n",
      "*         *\n"
     ]
    }
   ],
   "source": [
    "a=1\n",
    "while a<=10:\n",
    "    if a==1:\n",
    "        print(\"**       **\")\n",
    "    elif a==2:\n",
    "         print(\"*  *  *   *\")\n",
    "    elif a==3:\n",
    "         print(\"*    *    *\")\n",
    "    elif a==4: \n",
    "         print(\"*         *\")\n",
    "    elif a==5:\n",
    "         print(\"*         *\")\n",
    "    a=a+1"
   ]
  },
  {
   "cell_type": "code",
   "execution_count": 81,
   "id": "e17a7622",
   "metadata": {},
   "outputs": [
    {
     "name": "stdout",
     "output_type": "stream",
     "text": [
      "* *       *\n",
      "*  *      *\n",
      "*    *    *\n",
      "*      *  *\n",
      "*        **\n",
      "*         *\n"
     ]
    }
   ],
   "source": [
    "a=1\n",
    "while a<=10:\n",
    "    if a==1:\n",
    "        print(\"* *       *\")\n",
    "    elif a==2:\n",
    "         print(\"*  *      *\")\n",
    "    elif a==3:\n",
    "         print(\"*    *    *\")\n",
    "    elif a==4: \n",
    "         print(\"*      *  *\")\n",
    "    elif a==5:\n",
    "         print(\"*        **\")\n",
    "    elif a==6:\n",
    "         print(\"*         *\")\n",
    "    a=a+1"
   ]
  },
  {
   "cell_type": "code",
   "execution_count": 96,
   "id": "2e5b4347",
   "metadata": {},
   "outputs": [
    {
     "name": "stdout",
     "output_type": "stream",
     "text": [
      " * * *  *\n",
      "*        *\n",
      "*        *\n",
      "*        *\n",
      "*        *\n",
      " * * *  *\n"
     ]
    }
   ],
   "source": [
    "a=1\n",
    "while a<=10:\n",
    "    if a==1:\n",
    "        print(\" * * *  *\")\n",
    "    elif a==2:\n",
    "         print(\"*        *\")\n",
    "    elif a==3:\n",
    "         print(\"*        *\")\n",
    "    elif a==4: \n",
    "         print(\"*        *\")\n",
    "    elif a==5: \n",
    "         print(\"*        *\")\n",
    "    elif a==6:\n",
    "         print(\" * * *  *\")\n",
    "    a=a+1"
   ]
  },
  {
   "cell_type": "code",
   "execution_count": 106,
   "id": "385f1998",
   "metadata": {},
   "outputs": [
    {
     "name": "stdout",
     "output_type": "stream",
     "text": [
      "* * * *\n",
      "*      *\n",
      "* *  *\n",
      "*\n",
      "*\n",
      "*\n"
     ]
    }
   ],
   "source": [
    "a=1\n",
    "while a<=10:\n",
    "    if a==1:\n",
    "        print(\"* * * *\")\n",
    "    elif a==2:\n",
    "         print(\"*      *\")\n",
    "    elif a==3:\n",
    "         print(\"* *  *\")\n",
    "    elif a==4: \n",
    "         print(\"*\")\n",
    "    elif a==5: \n",
    "         print(\"*\")\n",
    "    elif a==6: \n",
    "         print(\"*\")\n",
    "    a=a+1"
   ]
  },
  {
   "cell_type": "code",
   "execution_count": 144,
   "id": "c9e8f204",
   "metadata": {},
   "outputs": [
    {
     "name": "stdout",
     "output_type": "stream",
     "text": [
      " * * * *\n",
      "*       *\n",
      "*       *\n",
      "*    *  *\n",
      " * * * *\n",
      "        *\n",
      "          *\n"
     ]
    }
   ],
   "source": [
    "a=1\n",
    "while a<=10:\n",
    "    if a==1:\n",
    "        print(\" * * * *\")\n",
    "    elif a==2:\n",
    "         print(\"*       *\")\n",
    "    elif a==3:\n",
    "         print(\"*       *\")\n",
    "    elif a==4: \n",
    "         print(\"*    *  *\")\n",
    "    elif a==5: \n",
    "         print(\" * * * *\")\n",
    "    elif a==6: \n",
    "         print(\"        *\")\n",
    "    elif a==7: \n",
    "         print(\"          *\")\n",
    "    a=a+1\n",
    "    "
   ]
  },
  {
   "cell_type": "code",
   "execution_count": 129,
   "id": "55f29d5e",
   "metadata": {},
   "outputs": [
    {
     "name": "stdout",
     "output_type": "stream",
     "text": [
      "* * * *\n",
      "*      *\n",
      "*     *\n",
      "*  * *\n",
      "*      *\n",
      "*        *\n"
     ]
    }
   ],
   "source": [
    "a=1\n",
    "while a<=10:\n",
    "    if a==1:\n",
    "        print(\"* * * *\")\n",
    "    elif a==2:\n",
    "         print(\"*      *\")\n",
    "    elif a==3:\n",
    "         print(\"*     *\")\n",
    "    elif a==4: \n",
    "         print(\"*  * *\")\n",
    "    elif a==5: \n",
    "         print(\"*      *\")\n",
    "    elif a==6: \n",
    "         print(\"*        *\")   \n",
    "    a=a+1"
   ]
  },
  {
   "cell_type": "code",
   "execution_count": 158,
   "id": "4e8d3b37",
   "metadata": {},
   "outputs": [
    {
     "name": "stdout",
     "output_type": "stream",
     "text": [
      " * * * * \n",
      "*      \n",
      "*      \n",
      " * * * *   \n",
      "        *\n",
      "        *\n",
      "* * * *\n"
     ]
    }
   ],
   "source": [
    "a=1\n",
    "while a<=10:\n",
    "    if a==1:\n",
    "        print(\" * * * * \")\n",
    "    elif a==2:\n",
    "         print(\"*      \")\n",
    "    elif a==3:\n",
    "         print(\"*      \")\n",
    "    elif a==4:\n",
    "         print(\" * * * *   \")\n",
    "    elif a==5: \n",
    "         print(\"        *\")\n",
    "    elif a==6: \n",
    "         print(\"        *\")\n",
    "    elif a==7: \n",
    "         print(\"* * * *\")   \n",
    "    a=a+1"
   ]
  },
  {
   "cell_type": "code",
   "execution_count": 163,
   "id": "97ca277b",
   "metadata": {},
   "outputs": [
    {
     "name": "stdout",
     "output_type": "stream",
     "text": [
      " * * * * * \n",
      "     *      \n",
      "     *      \n",
      "     *      \n",
      "     *      \n"
     ]
    }
   ],
   "source": [
    "a=1\n",
    "while a<=10:\n",
    "    if a==1:\n",
    "        print(\" * * * * * \")\n",
    "    elif a==2:\n",
    "         print(\"     *      \")\n",
    "    elif a==3:\n",
    "         print(\"     *      \")\n",
    "    elif a==4:\n",
    "         print(\"     *      \")\n",
    "    elif a==5:\n",
    "         print(\"     *      \")\n",
    "    a=a+1"
   ]
  },
  {
   "cell_type": "code",
   "execution_count": 175,
   "id": "c2eb6189",
   "metadata": {},
   "outputs": [
    {
     "name": "stdout",
     "output_type": "stream",
     "text": [
      "*       *\n",
      "*       *\n",
      "*       *\n",
      "*       *\n",
      " * * * * \n"
     ]
    }
   ],
   "source": [
    "a=1\n",
    "while a<=10:\n",
    "    if a==1:\n",
    "        print(\"*       *\")\n",
    "    elif a==2:\n",
    "         print(\"*       *\")\n",
    "    elif a==3:\n",
    "         print(\"*       *\")\n",
    "    elif a==4:\n",
    "         print(\"*       *\")\n",
    "    elif a==5:\n",
    "         print(\" * * * * \")\n",
    "    a=a+1"
   ]
  },
  {
   "cell_type": "code",
   "execution_count": 194,
   "id": "cdb0e967",
   "metadata": {},
   "outputs": [
    {
     "name": "stdout",
     "output_type": "stream",
     "text": [
      "*            *\n",
      " *          *\n",
      "  *        *\n",
      "   *      *\n",
      "     *  *  \n",
      "      *   \n"
     ]
    }
   ],
   "source": [
    "a=1\n",
    "while a<=10:\n",
    "    if a==1:\n",
    "        print(\"*            *\")\n",
    "    elif a==2:\n",
    "         print(\" *          *\")\n",
    "    elif a==3:\n",
    "         print(\"  *        *\")\n",
    "    elif a==4:\n",
    "         print(\"   *      *\")\n",
    "    elif a==5:\n",
    "         print(\"     *  *  \")\n",
    "    elif a==6:\n",
    "         print(\"      *   \")\n",
    "    a=a+1"
   ]
  },
  {
   "cell_type": "code",
   "execution_count": 231,
   "id": "4c96066c",
   "metadata": {},
   "outputs": [
    {
     "name": "stdout",
     "output_type": "stream",
     "text": [
      "*        *\n",
      "*        *\n",
      "*   *    *\n",
      "*  *  *  *\n",
      "* *    * *\n"
     ]
    }
   ],
   "source": [
    "a=1\n",
    "while a<=10:\n",
    "    if a==1:\n",
    "        print(\"*        *\")\n",
    "    elif a==2:\n",
    "         print(\"*        *\")\n",
    "    elif a==3:\n",
    "         print(\"*   *    *\")\n",
    "    elif a==4:\n",
    "         print(\"*  *  *  *\")\n",
    "    elif a==5:\n",
    "         print(\"* *    * *\")\n",
    "    a=a+1"
   ]
  },
  {
   "cell_type": "code",
   "execution_count": 242,
   "id": "408fcd04",
   "metadata": {},
   "outputs": [
    {
     "name": "stdout",
     "output_type": "stream",
     "text": [
      "*       *\n",
      "  *   *\n",
      "    *   \n",
      "  *   *\n",
      "*       *\n"
     ]
    }
   ],
   "source": [
    "a=1\n",
    "while a<=10:\n",
    "    if a==1:\n",
    "        print(\"*       *\")\n",
    "    elif a==2:\n",
    "         print(\"  *   *\")\n",
    "    elif a==3:\n",
    "         print(\"    *   \")\n",
    "    elif a==4:\n",
    "         print(\"  *   *\")\n",
    "    elif a==5:\n",
    "         print(\"*       *\")\n",
    "    a=a+1"
   ]
  },
  {
   "cell_type": "code",
   "execution_count": 283,
   "id": "ff998cb1",
   "metadata": {},
   "outputs": [
    {
     "name": "stdout",
     "output_type": "stream",
     "text": [
      " *      *\n",
      "  *    *\n",
      "    * *   \n",
      "     *   \n",
      "    *       \n",
      "   *       \n"
     ]
    }
   ],
   "source": [
    "a=1\n",
    "while a<=10:\n",
    "    if a==1:\n",
    "        print(\" *      *\")\n",
    "    elif a==2:\n",
    "         print(\"  *    *\")\n",
    "    elif a==3:\n",
    "         print(\"    * *   \")\n",
    "    elif a==4:\n",
    "         print(\"     *   \")\n",
    "    elif a==5:\n",
    "         print(\"    *       \")\n",
    "    elif a==6:\n",
    "         print(\"   *       \")\n",
    "    a=a+1"
   ]
  },
  {
   "cell_type": "code",
   "execution_count": 289,
   "id": "44de7bc2",
   "metadata": {},
   "outputs": [
    {
     "name": "stdout",
     "output_type": "stream",
     "text": [
      " * * * * *\n",
      "        *\n",
      "      * \n",
      "    *        \n",
      "  * * * * * * \n"
     ]
    }
   ],
   "source": [
    "a=1\n",
    "while a<=10:\n",
    "    if a==1:\n",
    "        print(\" * * * * *\")\n",
    "    elif a==2:\n",
    "         print(\"        *\")\n",
    "    elif a==3:\n",
    "         print(\"      * \")\n",
    "    elif a==4:\n",
    "         print(\"    *        \")\n",
    "    elif a==5:\n",
    "         print(\"  * * * * * * \")\n",
    "    a=a+1"
   ]
  },
  {
   "cell_type": "code",
   "execution_count": null,
   "id": "42066d00",
   "metadata": {},
   "outputs": [],
   "source": []
  },
  {
   "cell_type": "code",
   "execution_count": null,
   "id": "037f7000",
   "metadata": {},
   "outputs": [],
   "source": []
  }
 ],
 "metadata": {
  "kernelspec": {
   "display_name": "Python 3 (ipykernel)",
   "language": "python",
   "name": "python3"
  },
  "language_info": {
   "codemirror_mode": {
    "name": "ipython",
    "version": 3
   },
   "file_extension": ".py",
   "mimetype": "text/x-python",
   "name": "python",
   "nbconvert_exporter": "python",
   "pygments_lexer": "ipython3",
   "version": "3.9.13"
  }
 },
 "nbformat": 4,
 "nbformat_minor": 5
}
