{
 "cells": [
  {
   "cell_type": "code",
   "execution_count": 1,
   "id": "3c490a03",
   "metadata": {},
   "outputs": [],
   "source": [
    "#1.write a python program to convert a string to lower case"
   ]
  },
  {
   "cell_type": "code",
   "execution_count": 2,
   "id": "1529ae26",
   "metadata": {},
   "outputs": [
    {
     "name": "stdout",
     "output_type": "stream",
     "text": [
      "write your institute nameINNOMATICS RESEARCH LABS\n"
     ]
    },
    {
     "data": {
      "text/plain": [
       "'innomatics research labs'"
      ]
     },
     "execution_count": 2,
     "metadata": {},
     "output_type": "execute_result"
    }
   ],
   "source": [
    "var1=input(\"write your institute name\")\n",
    "var1.lower()"
   ]
  },
  {
   "cell_type": "code",
   "execution_count": 3,
   "id": "a4250396",
   "metadata": {},
   "outputs": [],
   "source": [
    "#2.Write a python program to convert only odd indexed characters to lower case"
   ]
  },
  {
   "cell_type": "code",
   "execution_count": 9,
   "id": "a8d3e2a8",
   "metadata": {},
   "outputs": [
    {
     "name": "stdout",
     "output_type": "stream",
     "text": [
      "enter a string :SRAVANI\n",
      "SrAvAnI\n"
     ]
    }
   ],
   "source": [
    "b=input(\"enter a string :\")\n",
    "str1=\"\"\n",
    "for i in range(0,len(b)):\n",
    "    if i%2==0:\n",
    "        str1=str1+b[i].upper()\n",
    "    else:\n",
    "        str1=str1+b[i].lower()\n",
    "print(str1)      "
   ]
  },
  {
   "cell_type": "code",
   "execution_count": 10,
   "id": "6ba59343",
   "metadata": {},
   "outputs": [],
   "source": [
    "#3.Write a python program to convert only even indexed characters to lower case "
   ]
  },
  {
   "cell_type": "code",
   "execution_count": 11,
   "id": "41c25869",
   "metadata": {},
   "outputs": [
    {
     "name": "stdout",
     "output_type": "stream",
     "text": [
      "enter a stringSRAVANI\n",
      "sRaVaNi\n"
     ]
    }
   ],
   "source": [
    "a=input(\"enter a string\")\n",
    "var1=\"\"\n",
    "for x in range(0,len(a)):\n",
    "    if x%2==0:\n",
    "        var1=var1+a[x].lower()\n",
    "    else:\n",
    "        var1=var1+a[x].upper()\n",
    "print(var1)"
   ]
  },
  {
   "cell_type": "code",
   "execution_count": 12,
   "id": "1ae230c6",
   "metadata": {},
   "outputs": [],
   "source": [
    "#4.Write a python program to convert only odd indexed characters to upper case"
   ]
  },
  {
   "cell_type": "code",
   "execution_count": 14,
   "id": "757c804d",
   "metadata": {},
   "outputs": [
    {
     "name": "stdout",
     "output_type": "stream",
     "text": [
      "enter a string :sravani\n",
      "sRaVaNi\n"
     ]
    }
   ],
   "source": [
    "b=input(\"enter a string :\")\n",
    "str1=\"\"\n",
    "for i in range(0,len(b)):\n",
    "    if i%2!=0:\n",
    "        str1=str1+b[i].upper()\n",
    "    else:\n",
    "        str1=str1+b[i].lower()\n",
    "print(str1) "
   ]
  },
  {
   "cell_type": "code",
   "execution_count": 15,
   "id": "9873d99d",
   "metadata": {},
   "outputs": [],
   "source": [
    "#5.Write a python program to convert only even indexed characters to upper case"
   ]
  },
  {
   "cell_type": "code",
   "execution_count": 16,
   "id": "338b4a97",
   "metadata": {},
   "outputs": [
    {
     "name": "stdout",
     "output_type": "stream",
     "text": [
      "enter a string :sravani\n",
      "SrAvAnI\n"
     ]
    }
   ],
   "source": [
    "b=input(\"enter a string :\")\n",
    "str1=\"\"\n",
    "for i in range(0,len(b)):\n",
    "    if i%2==0:\n",
    "        str1=str1+b[i].upper()\n",
    "    else:\n",
    "        str1=str1+b[i].lower()\n",
    "print(str1)      \n"
   ]
  },
  {
   "cell_type": "code",
   "execution_count": 17,
   "id": "553462c1",
   "metadata": {},
   "outputs": [],
   "source": [
    "#6.Write a python program where you have different variable which contains your name ,sex,age, phone no ,fathers name and \n",
    "# mothers name.And by using this variable create a variable named bio-data where you will use all this variable"
   ]
  },
  {
   "cell_type": "code",
   "execution_count": 18,
   "id": "bf2339d1",
   "metadata": {},
   "outputs": [
    {
     "name": "stdout",
     "output_type": "stream",
     "text": [
      " enter your name Sravani\n",
      " enter your gender Female\n",
      " enter your age 23\n",
      " enter your mobile number 9123456789\n",
      " enter your father name Siva Rama Raju\n",
      " enter your mother name Sunitha\n"
     ]
    },
    {
     "data": {
      "text/plain": [
       "'my name is Sravani,my gender is Female,my age is 23,my phone number is 9123456789,my fathers name is Siva Rama Raju my mothers name is Sunitha'"
      ]
     },
     "execution_count": 18,
     "metadata": {},
     "output_type": "execute_result"
    }
   ],
   "source": [
    "name=input( \" enter your name \" )\n",
    "sex=input( \" enter your gender \" )\n",
    "age=input( \" enter your age \" )\n",
    "phonenumber=input( \" enter your mobile number \" )\n",
    "fathername=input( \" enter your father name \" )\n",
    "mothername=input( \" enter your mother name \" )\n",
    "bio_data=\"my name is {},my gender is {},my age is {},my phone number is {},my fathers name is {} my mothers name is {}\"\n",
    "bio_data.format(name,sex,age,phonenumber,fathername,mothername)"
   ]
  },
  {
   "cell_type": "code",
   "execution_count": 19,
   "id": "e2750769",
   "metadata": {},
   "outputs": [],
   "source": [
    "#7.Write a python program to count how many times “@” occurred "
   ]
  },
  {
   "cell_type": "code",
   "execution_count": 20,
   "id": "63c10e52",
   "metadata": {},
   "outputs": [
    {
     "name": "stdout",
     "output_type": "stream",
     "text": [
      "enter a name@in@du@kuri@Lak@@@shmI@Sra@va@ni@@\n"
     ]
    },
    {
     "data": {
      "text/plain": [
       "12"
      ]
     },
     "execution_count": 20,
     "metadata": {},
     "output_type": "execute_result"
    }
   ],
   "source": [
    "x=input(\"enter a name\")\n",
    "x.count(\"@\")"
   ]
  },
  {
   "cell_type": "code",
   "execution_count": 21,
   "id": "bc972cea",
   "metadata": {},
   "outputs": [],
   "source": [
    "#8.Write a python program to get only names from the string "
   ]
  },
  {
   "cell_type": "code",
   "execution_count": 22,
   "id": "6235fa92",
   "metadata": {},
   "outputs": [
    {
     "name": "stdout",
     "output_type": "stream",
     "text": [
      "name1 name2 name3\n"
     ]
    }
   ],
   "source": [
    "s1=\"name1.@gmail.com,name2.@gmail.com,name3.@gmail.com\"\n",
    "s1=s1.split(\".\")\n",
    "print(s1[0],s1[2][4:],s1[4][4:])\n"
   ]
  },
  {
   "cell_type": "code",
   "execution_count": 23,
   "id": "05452515",
   "metadata": {},
   "outputs": [],
   "source": [
    "#9.Given a string of odd length greater that 9, return a new string made of the middle three characters of a given String"
   ]
  },
  {
   "cell_type": "code",
   "execution_count": 24,
   "id": "5b9d79d7",
   "metadata": {},
   "outputs": [
    {
     "data": {
      "text/plain": [
       "'isr'"
      ]
     },
     "execution_count": 24,
     "metadata": {},
     "output_type": "execute_result"
    }
   ],
   "source": [
    "name=\"lakshmisravani\"\n",
    "b=int(len(name)/2)\n",
    "name[b-1:b+2]"
   ]
  },
  {
   "cell_type": "code",
   "execution_count": 25,
   "id": "e54914b2",
   "metadata": {},
   "outputs": [],
   "source": [
    "#10.Write a python program to insert a 2 string in the middle of 1 string"
   ]
  },
  {
   "cell_type": "code",
   "execution_count": 26,
   "id": "5ea14881",
   "metadata": {},
   "outputs": [
    {
     "name": "stdout",
     "output_type": "stream",
     "text": [
      " enter your name lami\n",
      " enter your name ksh\n"
     ]
    },
    {
     "data": {
      "text/plain": [
       "'lakshmi'"
      ]
     },
     "execution_count": 26,
     "metadata": {},
     "output_type": "execute_result"
    }
   ],
   "source": [
    "s1=input( \" enter your name \" )\n",
    "s2=input ( \" enter your name \" )\n",
    "s1[0:2]+s2+s1[2:]"
   ]
  },
  {
   "cell_type": "code",
   "execution_count": 27,
   "id": "88437de1",
   "metadata": {},
   "outputs": [
    {
     "data": {
      "text/plain": [
       "'bcdfghjklmnpqrstvwxyz'"
      ]
     },
     "execution_count": 27,
     "metadata": {},
     "output_type": "execute_result"
    }
   ],
   "source": [
    "#11.Write a program to remove vowels from the entire alphabets \n",
    "a=\"abcdefghijklmnopqrstuvwxyz\"\n",
    "b=a.replace(\"a\",\"\")\n",
    "c=b.replace(\"e\",\"\")\n",
    "d=c.replace(\"i\",\"\")\n",
    "e=d.replace(\"o\",\"\")\n",
    "f=e.replace(\"u\",\"\")\n",
    "f\n"
   ]
  },
  {
   "cell_type": "code",
   "execution_count": null,
   "id": "034c53fb",
   "metadata": {},
   "outputs": [],
   "source": []
  }
 ],
 "metadata": {
  "kernelspec": {
   "display_name": "Python 3 (ipykernel)",
   "language": "python",
   "name": "python3"
  },
  "language_info": {
   "codemirror_mode": {
    "name": "ipython",
    "version": 3
   },
   "file_extension": ".py",
   "mimetype": "text/x-python",
   "name": "python",
   "nbconvert_exporter": "python",
   "pygments_lexer": "ipython3",
   "version": "3.9.13"
  }
 },
 "nbformat": 4,
 "nbformat_minor": 5
}
