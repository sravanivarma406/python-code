{
 "cells": [
  {
   "cell_type": "code",
   "execution_count": null,
   "id": "19e501d8",
   "metadata": {},
   "outputs": [],
   "source": [
    "#1.Write a program to accept two numbers from the userand calculate multiplication, division"
   ]
  },
  {
   "cell_type": "code",
   "execution_count": 1,
   "id": "fdac0f10",
   "metadata": {},
   "outputs": [
    {
     "name": "stdout",
     "output_type": "stream",
     "text": [
      "enter a first number :5\n",
      "enter a second number :8\n",
      "5*8=40\n",
      "5/8=0.625\n"
     ]
    }
   ],
   "source": [
    "x=int(input(\"enter a first number :\"))\n",
    "z=int(input(\"enter a second number :\"))\n",
    "print(\"{}*{}={}\".format(x,z,x*z))\n",
    "print(\"{}/{}={}\".format(x,z,x/z))"
   ]
  },
  {
   "cell_type": "code",
   "execution_count": 3,
   "id": "22f46082",
   "metadata": {},
   "outputs": [],
   "source": [
    "#2 Write a python program to print the characters from astring that are present at an even index"
   ]
  },
  {
   "cell_type": "code",
   "execution_count": 5,
   "id": "108a9965",
   "metadata": {},
   "outputs": [],
   "source": [
    "def even(x):\n",
    "    l=[]\n",
    "    for y in range(len(x)):\n",
    "        if y%2==0:\n",
    "            l.append(x[y])\n",
    "    return l\n"
   ]
  },
  {
   "cell_type": "code",
   "execution_count": 6,
   "id": "fe8ce797",
   "metadata": {},
   "outputs": [],
   "source": [
    "c=even(\"sravani\")"
   ]
  },
  {
   "cell_type": "code",
   "execution_count": 7,
   "id": "9b8fa533",
   "metadata": {},
   "outputs": [
    {
     "data": {
      "text/plain": [
       "['s', 'a', 'a', 'i']"
      ]
     },
     "execution_count": 7,
     "metadata": {},
     "output_type": "execute_result"
    }
   ],
   "source": [
    "c"
   ]
  },
  {
   "cell_type": "code",
   "execution_count": 24,
   "id": "819b209a",
   "metadata": {},
   "outputs": [],
   "source": [
    "#3 Write a python program to print the characters from a string that are present at an odd index"
   ]
  },
  {
   "cell_type": "code",
   "execution_count": 1,
   "id": "4cac503e",
   "metadata": {},
   "outputs": [],
   "source": [
    "def odd(x):\n",
    "    l=[]\n",
    "    for y in range(len(x)):\n",
    "        if y%2!=0:\n",
    "            l.append(x[y])\n",
    "    return l\n"
   ]
  },
  {
   "cell_type": "code",
   "execution_count": 2,
   "id": "68c12993",
   "metadata": {},
   "outputs": [],
   "source": [
    "c=odd(\"sravani\")"
   ]
  },
  {
   "cell_type": "code",
   "execution_count": 3,
   "id": "e0041dd0",
   "metadata": {},
   "outputs": [
    {
     "data": {
      "text/plain": [
       "['r', 'v', 'n']"
      ]
     },
     "execution_count": 3,
     "metadata": {},
     "output_type": "execute_result"
    }
   ],
   "source": [
    "c"
   ]
  },
  {
   "cell_type": "code",
   "execution_count": 29,
   "id": "ecef1cbc",
   "metadata": {},
   "outputs": [],
   "source": [
    "#4 Write a python program which will print the sum of the two numbers if the two numbers are even or it will print the difference of two numbers"
   ]
  },
  {
   "cell_type": "code",
   "execution_count": 14,
   "id": "f92152ed",
   "metadata": {},
   "outputs": [
    {
     "name": "stdout",
     "output_type": "stream",
     "text": [
      "enter 1st number :5\n",
      "enter 2nd number :7\n",
      "-2\n"
     ]
    }
   ],
   "source": [
    "x=int(input(\"enter 1st number :\"))\n",
    "y=int(input(\"enter 2nd number :\"))\n",
    "if x%2==0 and x%2!=0:\n",
    "        print(x+y)\n",
    "else:\n",
    "   print(x-y)\n",
    "               "
   ]
  },
  {
   "cell_type": "code",
   "execution_count": 16,
   "id": "5d11875f",
   "metadata": {},
   "outputs": [],
   "source": [
    "#5 Write a python program to convert all even indexed alphabets to upper and odd indexed char"
   ]
  },
  {
   "cell_type": "code",
   "execution_count": 7,
   "id": "2569ee71",
   "metadata": {},
   "outputs": [],
   "source": [
    "def alphabet(x):\n",
    "    l=\" \"\n",
    "    for a in range(len(x)):\n",
    "        if a%2==0:\n",
    "            l=l+x[a].upper()\n",
    "        if a%2!=0:\n",
    "            l=l+x[a].lower()\n",
    "        \n",
    "    return l\n",
    "    \n"
   ]
  },
  {
   "cell_type": "code",
   "execution_count": 8,
   "id": "4bd7642d",
   "metadata": {},
   "outputs": [],
   "source": [
    "c=alphabet(\"sravani\")"
   ]
  },
  {
   "cell_type": "code",
   "execution_count": 9,
   "id": "06e9ab63",
   "metadata": {},
   "outputs": [
    {
     "data": {
      "text/plain": [
       "' SrAvAnI'"
      ]
     },
     "execution_count": 9,
     "metadata": {},
     "output_type": "execute_result"
    }
   ],
   "source": [
    "c"
   ]
  },
  {
   "cell_type": "code",
   "execution_count": 30,
   "id": "3a38157b",
   "metadata": {},
   "outputs": [],
   "source": [
    "#6 Write a python program which will print True if the inputnumber is divisible by 5 or else False"
   ]
  },
  {
   "cell_type": "code",
   "execution_count": 7,
   "id": "fceed21a",
   "metadata": {},
   "outputs": [
    {
     "name": "stdout",
     "output_type": "stream",
     "text": [
      "enter the number25\n",
      "TRUE\n"
     ]
    }
   ],
   "source": [
    "x=int(input(\"enter the number\"))\n",
    "if x%5==0:\n",
    "    print(\"TRUE\")\n",
    "else:\n",
    "          print(\"FALSE\")"
   ]
  },
  {
   "cell_type": "code",
   "execution_count": 10,
   "id": "81386657",
   "metadata": {},
   "outputs": [],
   "source": [
    "#7 Given two integer numbers return their product only if the product is greater than 1000, else return their sum"
   ]
  },
  {
   "cell_type": "code",
   "execution_count": 15,
   "id": "d99a78d4",
   "metadata": {},
   "outputs": [
    {
     "name": "stdout",
     "output_type": "stream",
     "text": [
      "enter the first number :10\n",
      "enter the second number :1\n",
      "11\n"
     ]
    }
   ],
   "source": [
    "x=int(input(\"enter the first number :\"))\n",
    "y=int(input(\"enter the second number :\"))\n",
    "if x*y>1000:\n",
    "    print(x*y)\n",
    "else:\n",
    "    print(x+y)"
   ]
  },
  {
   "cell_type": "code",
   "execution_count": 13,
   "id": "8b63076f",
   "metadata": {},
   "outputs": [],
   "source": [
    "#8 Given two strings x, y writes a program to return a new string made of x and y’s first, middle,and last characters \n",
    "#Example: Input X=” pytho” Y=” javas” Output ” pjtvos”"
   ]
  },
  {
   "cell_type": "code",
   "execution_count": 6,
   "id": "04338338",
   "metadata": {},
   "outputs": [
    {
     "name": "stdout",
     "output_type": "stream",
     "text": [
      "enter the name :pytho\n",
      "enter the name :javas\n"
     ]
    },
    {
     "data": {
      "text/plain": [
       "'pjtvos'"
      ]
     },
     "execution_count": 6,
     "metadata": {},
     "output_type": "execute_result"
    }
   ],
   "source": [
    "x=input(\"enter the name :\")\n",
    "y=input(\"enter the name :\")\n",
    "x[0]+y[0]+x[len(x)//2]+y[len(y)//2]+x[-1]+y[-1]\n"
   ]
  },
  {
   "cell_type": "code",
   "execution_count": 7,
   "id": "08c506cb",
   "metadata": {},
   "outputs": [],
   "source": [
    "#9 Write a python program to take three names as input from a user in the single input () function call\n",
    "#Example: Input: Enter three names: - “person1 person2 person3” Output: Name1: - “person1” Name2: - “person2” Name3: - “person3”"
   ]
  },
  {
   "cell_type": "code",
   "execution_count": 16,
   "id": "64ea3efe",
   "metadata": {},
   "outputs": [
    {
     "name": "stdout",
     "output_type": "stream",
     "text": [
      "enter the three numbers:person1 person2 person3\n",
      "Name1: - person1\n",
      "Name2: - person2\n",
      "Name3: - person3\n"
     ]
    }
   ],
   "source": [
    "x=input(\"enter the three numbers:\")\n",
    "s=x.split()\n",
    "for a in range(len(x)):\n",
    "    if a==0:\n",
    "            print(\"Name1: -\",s[a])\n",
    "    elif a==1:\n",
    "            print(\"Name2: -\",s[a])\n",
    "    elif a==2:\n",
    "            print(\"Name3: -\",s[a])    \n"
   ]
  },
  {
   "cell_type": "code",
   "execution_count": 53,
   "id": "5653d4bc",
   "metadata": {},
   "outputs": [],
   "source": [
    "#10) Write a Python program to get a string from a given string where all occurrences of its first char have been changed \n",
    "#to '@', except the first char itself."
   ]
  },
  {
   "cell_type": "code",
   "execution_count": 13,
   "id": "73cf9ee0",
   "metadata": {},
   "outputs": [
    {
     "name": "stdout",
     "output_type": "stream",
     "text": [
      "enter a name :malyalam\n",
      "malyala@\n"
     ]
    }
   ],
   "source": [
    "x=input(\"enter a name :\")\n",
    "s=x[0]\n",
    "for a in x:\n",
    "     x=x.replace(x[0],\"@\")\n",
    "     x=s+x[1:]\n",
    "print(x)\n"
   ]
  },
  {
   "cell_type": "code",
   "execution_count": 16,
   "id": "c9456365",
   "metadata": {},
   "outputs": [],
   "source": [
    "#11) Write a Python program to add 'ing' at the end of a given string (string length should be equal to or more than 3). If\n",
    "#the given string already ends with 'ing' then add 'ly' instead. If the string length of the given string is less than 3, leave it unchanged\n",
    "#Example:Input:'sing’\n",
    "#Output:'singing'\n",
    "\n",
    "#Input:' playing'\n",
    "#Output:'playly’\n",
    "#Input:' on'\n",
    "#Output:‘on’"
   ]
  },
  {
   "cell_type": "code",
   "execution_count": 3,
   "id": "2fbf8354",
   "metadata": {},
   "outputs": [
    {
     "name": "stdout",
     "output_type": "stream",
     "text": [
      "enter a name :singing\n",
      "singly\n"
     ]
    }
   ],
   "source": [
    "x=input(\"enter a name :\")\n",
    "l=len(x)\n",
    "if l>=4:\n",
    "    if x.endswith(\"ing\"):\n",
    "        a=x[:-3]+\"ly\"\n",
    "        print(a)\n",
    "    else:\n",
    "         b=x[0:]+\"ing\"\n",
    "         print(b)\n",
    "if l<=3:\n",
    "        print(x)"
   ]
  },
  {
   "cell_type": "code",
   "execution_count": 1,
   "id": "abf49196",
   "metadata": {},
   "outputs": [],
   "source": [
    "#12 Write a python program that accepts two inputs num1 and num2 print True if one of them is 10 or if their sum is 10 otherwise print False"
   ]
  },
  {
   "cell_type": "code",
   "execution_count": 11,
   "id": "99fddc5c",
   "metadata": {},
   "outputs": [
    {
     "name": "stdout",
     "output_type": "stream",
     "text": [
      "enter a number :5\n",
      "eneter a number :10\n",
      "True\n"
     ]
    }
   ],
   "source": [
    "num1=int(input(\"enter a number :\"))\n",
    "num2=int(input(\"eneter a number :\"))\n",
    "if num1==10 or num2==10 or num1+num2==10:\n",
    "    print(\"True\")\n",
    "else:\n",
    "    print(\"False\")"
   ]
  },
  {
   "cell_type": "code",
   "execution_count": 10,
   "id": "a3ff498e",
   "metadata": {},
   "outputs": [],
   "source": [
    "#13 Write a python program that accepts three inputs x, y and z print True if x*y>z otherwise False"
   ]
  },
  {
   "cell_type": "code",
   "execution_count": 19,
   "id": "a912a677",
   "metadata": {},
   "outputs": [
    {
     "name": "stdout",
     "output_type": "stream",
     "text": [
      "enter a number :5\n",
      "enter a number :4\n",
      "enter a number :10\n",
      "True\n"
     ]
    }
   ],
   "source": [
    "x=int(input(\"enter a number :\"))\n",
    "y=int(input(\"enter a number :\"))\n",
    "z=int(input(\"enter a number :\"))\n",
    "if x*y>z:\n",
    "    print(\"True\")\n",
    "else:\n",
    "    print(\"False\")"
   ]
  },
  {
   "cell_type": "code",
   "execution_count": 20,
   "id": "a521f57d",
   "metadata": {},
   "outputs": [],
   "source": [
    "#14 Write a python program that accepts two strings inputs return True depending on whether the total number of characters \n",
    "#in the first string is equal to the total number of characters in the second string"
   ]
  },
  {
   "cell_type": "code",
   "execution_count": 3,
   "id": "f95fbe49",
   "metadata": {},
   "outputs": [
    {
     "name": "stdout",
     "output_type": "stream",
     "text": [
      "enter the name :banusha\n",
      "enter the name :sravani\n",
      "True\n"
     ]
    }
   ],
   "source": [
    "x=input(\"enter the name :\")\n",
    "y=input(\"enter the name :\")\n",
    "if len(x)==len(y):\n",
    "    print(\"True\")\n",
    "else:\n",
    "    print(\"False\")\n"
   ]
  },
  {
   "cell_type": "code",
   "execution_count": 4,
   "id": "8a5db80a",
   "metadata": {},
   "outputs": [],
   "source": [
    "#15 Write a python program that takes a string input, we'll say that the front is the first three characters of the string.\n",
    "#If the string length is less than three characters, the front is whatever is there. Return a new string, which is three copies\n",
    "#of the front"
   ]
  },
  {
   "cell_type": "code",
   "execution_count": 9,
   "id": "b2b2ce5c",
   "metadata": {},
   "outputs": [
    {
     "name": "stdout",
     "output_type": "stream",
     "text": [
      "enter a word :war\n",
      "warwarwar\n"
     ]
    }
   ],
   "source": [
    "x=input(\"enter a word :\")\n",
    "if len(x)<3:\n",
    "    print(x)\n",
    "elif len(x)>=3:\n",
    "    print(x[0:4]*3)"
   ]
  },
  {
   "cell_type": "code",
   "execution_count": 10,
   "id": "3610afa2",
   "metadata": {},
   "outputs": [],
   "source": [
    "#16 Write a python program that takes in a word and determines whether or not it is plural. A plural word is one that ends in \"s\"."
   ]
  },
  {
   "cell_type": "code",
   "execution_count": 12,
   "id": "3dd421c2",
   "metadata": {},
   "outputs": [
    {
     "name": "stdout",
     "output_type": "stream",
     "text": [
      "enter a word :strings\n",
      "it is a plural word\n"
     ]
    }
   ],
   "source": [
    "x=input(\"enter a word :\")\n",
    "if x.endswith(\"s\"):\n",
    "    print(\"it is a plural word\")\n",
    "else:\n",
    "    print(\"it is not a Plural word\")\n"
   ]
  },
  {
   "cell_type": "code",
   "execution_count": 13,
   "id": "f1d7b72a",
   "metadata": {},
   "outputs": [],
   "source": [
    "#17 A bartender is writing a simple program to determine whether he should serve drinks to someone. He only serves drinks to \n",
    "#people 18 and older and when he's not on break (True means break and False means not a break time). Giventhe person's age, \n",
    "#and whether break time is in session, createa python program which prints whether he should serve drinks or not."
   ]
  },
  {
   "cell_type": "code",
   "execution_count": 21,
   "id": "f9937e64",
   "metadata": {},
   "outputs": [
    {
     "name": "stdout",
     "output_type": "stream",
     "text": [
      "enter the persons age :22\n",
      "is Batender is on break(True/False) False\n",
      "Bartender serve the drink\n"
     ]
    }
   ],
   "source": [
    "age=int(input(\"enter the persons age :\"))\n",
    "x=input(\"is Batender is on break(True/False) \")\n",
    "if age>18 or age==18:\n",
    "    print(\"Bartender serve the drink\")\n",
    "else:\n",
    "    print(\"Bartender not serve the drink\")"
   ]
  },
  {
   "cell_type": "code",
   "execution_count": 22,
   "id": "65761ad6",
   "metadata": {},
   "outputs": [],
   "source": [
    "#18 Manoj Kumar has family and friends. Help him remind them who is who. Given a string with a name, return the relation of \n",
    "#that person to Manoj Kumar.Person Relation Shiva father Letha mother Tarun brother"
   ]
  },
  {
   "cell_type": "code",
   "execution_count": 27,
   "id": "1ad7326b",
   "metadata": {},
   "outputs": [
    {
     "name": "stdout",
     "output_type": "stream",
     "text": [
      "enter a name :shiva\n",
      "Father\n"
     ]
    }
   ],
   "source": [
    "x=input(\"enter a name :\")\n",
    "if x==\"shiva\":\n",
    "    print(\"Father\")\n",
    "elif x==\"letha\":\n",
    "    print(\"Mother\")\n",
    "elif x==\"Tarun\":\n",
    "    print(\"Brother\")\n",
    "elif x==\"sravani\":\n",
    "    print(\"sister\")\n",
    "elif x==\"sandeep\":\n",
    "    print(\"Friend\")\n"
   ]
  },
  {
   "cell_type": "code",
   "execution_count": 28,
   "id": "a2b220f9",
   "metadata": {},
   "outputs": [],
   "source": [
    "#19 Write a python program that takes a string, breaks it up and returns it with vowels first, consonants second. For any\n",
    "#character that's not a vowel (like special characters or spaces), treat them like consonants"
   ]
  },
  {
   "cell_type": "code",
   "execution_count": 36,
   "id": "3329bb5b",
   "metadata": {},
   "outputs": [
    {
     "name": "stdout",
     "output_type": "stream",
     "text": [
      "Type the string: sravani@varma@indukuri\n",
      "aaiaaiuuisrvn@vrm@ndkr\n"
     ]
    }
   ],
   "source": [
    "x=input(\"Type the string: \")\n",
    "x1=\"\"\n",
    "x2=\"\"\n",
    "for y in range(len(x)):\n",
    "    if x[y]==\"a\" or x[y]==\"e\" or x[y]==\"i\" or x[y]==\"o\" or x[y]==\"u\":\n",
    "        x1=x1+x[y]\n",
    "    else:\n",
    "        x2=x2+x[y]\n",
    "print(x1+x2)  "
   ]
  },
  {
   "cell_type": "code",
   "execution_count": 30,
   "id": "8fac40b9",
   "metadata": {},
   "outputs": [],
   "source": [
    "#20 Create a dynamic calculator which asks for numbers and operator and return the answers\n",
    "#Example\n",
    "#Input:\n",
    "#Type first number: 10\n",
    "#Type any of this (+, -, *, /, %, **): \n",
    "#Kavitha sister\n",
    "#Strange Coder\n",
    "#Assignment-2\n",
    "#Type second number: 19\n",
    "#Output:\n",
    "#Answer is 19\n"
   ]
  },
  {
   "cell_type": "code",
   "execution_count": 35,
   "id": "1457d596",
   "metadata": {},
   "outputs": [
    {
     "name": "stdout",
     "output_type": "stream",
     "text": [
      "enter a number :5\n",
      "enter any of the operators +,-,*,/,%,**,// :*\n",
      "enter a number10\n",
      "5*10=50\n"
     ]
    }
   ],
   "source": [
    "x=int(input(\"enter a number :\"))\n",
    "z=input(\"enter any of the operators +,-,*,/,%,**,// :\")\n",
    "y=int(input(\"enter a number\"))\n",
    "if z==\"+\":\n",
    "    print(\"{}+{}={}\".format(x,y,x+y))\n",
    "elif z==\"-\":\n",
    "    print(\"{}-{}={}\".format(x,y,x-y))\n",
    "elif z==\"*\":\n",
    "    print(\"{}*{}={}\".format(x,y,x*y))\n",
    "elif z==\"/\":\n",
    "    print(\"{}/{}={}\".format(x,y,x/y))\n",
    "elif z==\"%\":\n",
    "    print(\"{}%{}={}\".format(x,y,x%y))\n",
    "elif z==\"**\":\n",
    "    print(\"{}**{}={}\".format(x,y,x**y))\n",
    "elif z==\"//\":\n",
    "    print(\"{}+{}={}\".format(x,y,x//y))"
   ]
  },
  {
   "cell_type": "code",
   "execution_count": null,
   "id": "a7a3d9e3",
   "metadata": {},
   "outputs": [],
   "source": []
  }
 ],
 "metadata": {
  "kernelspec": {
   "display_name": "Python 3 (ipykernel)",
   "language": "python",
   "name": "python3"
  },
  "language_info": {
   "codemirror_mode": {
    "name": "ipython",
    "version": 3
   },
   "file_extension": ".py",
   "mimetype": "text/x-python",
   "name": "python",
   "nbconvert_exporter": "python",
   "pygments_lexer": "ipython3",
   "version": "3.9.13"
  }
 },
 "nbformat": 4,
 "nbformat_minor": 5
}
