{
 "cells": [
  {
   "cell_type": "code",
   "execution_count": 1,
   "id": "90659c51",
   "metadata": {},
   "outputs": [
    {
     "name": "stdout",
     "output_type": "stream",
     "text": [
      " enter your choice rock\n",
      " enter your choice paper\n",
      "paper beats the rock y wins\n"
     ]
    }
   ],
   "source": [
    "x=input( \" enter your choice \" )\n",
    "y=input( \" enter your choice \" )\n",
    "if x==\"rock\" and y==\"rock\" or x==\"paper\" and y==\"paper\" or x==\"scissor\" and y==\"scissor\":\n",
    "    print(\"repeat the game again\")\n",
    "elif x==\"rock\" and y==\"paper\":\n",
    "    print(\"paper beats the rock y wins\")\n",
    "elif x==\"rock\" and y==\"scissor\":\n",
    "    print(\"rock beats the scissor x wins\")\n",
    "elif x==\"paper\" and y==\"scissor\" :\n",
    "    print(\"scissor beats the paper y wins\")  \n",
    "elif x==\"paper\" and y==\"rock\" :\n",
    "    print(\"paper beats the rock x wins\") \n",
    "elif x==\"scissor\" and y==\"rock\":\n",
    "    print(\"rock beats the scissor y wins\")\n",
    "elif x==\"scissor\" and y==\"paper\":\n",
    "    print(\"scissor beats the paper x wins\")\n",
    "else:\n",
    "    print(\"wrong\")\n"
   ]
  },
  {
   "cell_type": "code",
   "execution_count": null,
   "id": "44304fae",
   "metadata": {},
   "outputs": [],
   "source": []
  }
 ],
 "metadata": {
  "kernelspec": {
   "display_name": "Python 3 (ipykernel)",
   "language": "python",
   "name": "python3"
  },
  "language_info": {
   "codemirror_mode": {
    "name": "ipython",
    "version": 3
   },
   "file_extension": ".py",
   "mimetype": "text/x-python",
   "name": "python",
   "nbconvert_exporter": "python",
   "pygments_lexer": "ipython3",
   "version": "3.9.13"
  }
 },
 "nbformat": 4,
 "nbformat_minor": 5
}
