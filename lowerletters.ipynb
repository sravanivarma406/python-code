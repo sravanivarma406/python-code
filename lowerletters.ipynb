{
 "cells": [
  {
   "cell_type": "code",
   "execution_count": 284,
   "id": "4108395c",
   "metadata": {},
   "outputs": [
    {
     "name": "stdout",
     "output_type": "stream",
     "text": [
      " * * * * \n",
      "*      *\n",
      "*      *   * \n",
      " * * * * * *\n"
     ]
    }
   ],
   "source": [
    "for a in range (1,10):\n",
    "    if a==1:\n",
    "        print(\" * * * * \")\n",
    "    elif a==2:\n",
    "        print(\"*      *\")\n",
    "    elif a==3:\n",
    "        print(\"*      *   * \")\n",
    "    elif a==4:\n",
    "        print(\" * * * * * *\")\n",
    "    a=a+1\n",
    "    \n"
   ]
  },
  {
   "cell_type": "code",
   "execution_count": 3,
   "id": "960301f3",
   "metadata": {},
   "outputs": [
    {
     "name": "stdout",
     "output_type": "stream",
     "text": [
      "*\n",
      "*\n",
      "*\n",
      "* * * *\n",
      "*      *\n",
      "*      *\n",
      "* * * *\n"
     ]
    }
   ],
   "source": [
    "for a in range(1,10):\n",
    "    if a==1:\n",
    "        print(\"*\")\n",
    "    elif a==2:\n",
    "        print(\"*\")\n",
    "    elif a==3:\n",
    "        print(\"*\")\n",
    "    elif a==4:\n",
    "        print(\"* * * *\")\n",
    "    elif a==5:\n",
    "        print(\"*      *\")\n",
    "    elif a==6:\n",
    "        print(\"*      *\")\n",
    "    elif a==7:\n",
    "        print(\"* * * *\")\n",
    "    a=a+1"
   ]
  },
  {
   "cell_type": "code",
   "execution_count": 4,
   "id": "c9fc565d",
   "metadata": {},
   "outputs": [
    {
     "name": "stdout",
     "output_type": "stream",
     "text": [
      " * * * * * \n",
      "*\n",
      "*\n",
      "* \n",
      " * * * * *\n"
     ]
    }
   ],
   "source": [
    "for a in range(1,10):\n",
    "    if a==1:\n",
    "        print(\" * * * * * \")\n",
    "    elif a==2:\n",
    "        print(\"*\")\n",
    "    elif a==3:\n",
    "        print(\"*\")\n",
    "    elif a==4:\n",
    "        print(\"* \")\n",
    "    elif a==5:\n",
    "        print(\" * * * * *\")\n",
    "    a=a+1"
   ]
  },
  {
   "cell_type": "code",
   "execution_count": 6,
   "id": "f817262b",
   "metadata": {},
   "outputs": [
    {
     "name": "stdout",
     "output_type": "stream",
     "text": [
      "       *  \n",
      "       *  \n",
      " * * * *  \n",
      "*      *  \n",
      "*      *  \n",
      " * * * *  \n"
     ]
    }
   ],
   "source": [
    "for a in range(1,10):\n",
    "    if a==1:\n",
    "        print(\"       *  \")\n",
    "    elif a==2:\n",
    "        print(\"       *  \")\n",
    "    elif a==3:\n",
    "        print(\" * * * *  \")\n",
    "    elif a==4:\n",
    "        print(\"*      *  \")\n",
    "    elif a==5:\n",
    "        print(\"*      *  \")\n",
    "    elif a==6:\n",
    "        print(\" * * * *  \")\n",
    "    a=a+1"
   ]
  },
  {
   "cell_type": "code",
   "execution_count": 287,
   "id": "d107abd4",
   "metadata": {},
   "outputs": [
    {
     "name": "stdout",
     "output_type": "stream",
     "text": [
      " * * * * * *\n",
      "*          *\n",
      "*    * * * * \n",
      "*   \n",
      "*   \n",
      " * * * * *\n"
     ]
    }
   ],
   "source": [
    "for a in range(1,10):\n",
    "    if a==1:\n",
    "        print(\" * * * * * *\")\n",
    "    elif a==2:\n",
    "        print(\"*          *\")\n",
    "    elif a==3:\n",
    "        print(\"*    * * * * \")\n",
    "    elif a==4:\n",
    "        print(\"*   \")\n",
    "    elif a==5:\n",
    "        print(\"*   \")\n",
    "    elif a==6:\n",
    "        print(\" * * * * *\")\n",
    "    a=a+1"
   ]
  },
  {
   "cell_type": "code",
   "execution_count": 251,
   "id": "6fb21337",
   "metadata": {},
   "outputs": [
    {
     "name": "stdout",
     "output_type": "stream",
     "text": [
      "    *  * * * * * *\n",
      "   *             *\n",
      "   *           *\n",
      "   *              \n",
      "   *       \n",
      "*  * * * *   \n",
      "   *   \n",
      "   * \n",
      "   * \n",
      "   * \n",
      "   * \n"
     ]
    }
   ],
   "source": [
    "for a in range(1,12):\n",
    "    if a==1:\n",
    "        print(\"    *  * * * * * *\") \n",
    "    elif a==2:\n",
    "        print(\"   *             *\")\n",
    "    elif a==3:\n",
    "        print(\"   *           *\")\n",
    "    elif a==4:\n",
    "        print(\"   *              \")\n",
    "    elif a==5:\n",
    "        print(\"   *       \")\n",
    "    elif a==6:\n",
    "        print(\"*  * * * *   \")\n",
    "    elif a==7:\n",
    "        print(\"   *   \")\n",
    "    elif a==8:\n",
    "        print(\"   * \")\n",
    "    elif a==9:\n",
    "        print(\"   * \")\n",
    "    elif a==10:\n",
    "        print(\"   * \")\n",
    "    elif a==11:\n",
    "        print(\"   * \")\n",
    "    a=a+1"
   ]
  },
  {
   "cell_type": "code",
   "execution_count": 288,
   "id": "ad4a3f22",
   "metadata": {},
   "outputs": [
    {
     "name": "stdout",
     "output_type": "stream",
     "text": [
      " * * *  * *\n",
      "*          *\n",
      "*          *\n",
      "*          *\n",
      " * *  * * *\n",
      "           *\n",
      "           *\n",
      " *  *      *\n",
      "*          *\n",
      " *  * * * *\n"
     ]
    }
   ],
   "source": [
    "for a in range(1,11):\n",
    "    if a==1:\n",
    "        print(\" * * *  * *\") \n",
    "    elif a==2:\n",
    "        print(\"*          *\")\n",
    "    elif a==3:\n",
    "        print(\"*          *\")\n",
    "    elif a==4:\n",
    "        print(\"*          *\")\n",
    "    elif a==5:\n",
    "        print(\" * *  * * *\")\n",
    "    elif a==6:\n",
    "        print(\"           *\")\n",
    "    elif a==7:\n",
    "        print(\"           *\")\n",
    "    elif a==8:\n",
    "        print(\" *  *      *\")\n",
    "    elif a==9:\n",
    "        print(\"*          *\")\n",
    "    elif a==10:\n",
    "        print(\" *  * * * *\")\n",
    "    a=a+1"
   ]
  },
  {
   "cell_type": "code",
   "execution_count": 11,
   "id": "9cccb273",
   "metadata": {},
   "outputs": [
    {
     "name": "stdout",
     "output_type": "stream",
     "text": [
      "*\n",
      "* \n",
      "*\n",
      "*\n",
      "* *  *  *  \n",
      "*        *  \n",
      "*        * \n",
      "*        * \n",
      "*        * \n"
     ]
    }
   ],
   "source": [
    "for a in range(1,10):\n",
    "    if a==1:\n",
    "        print(\"*\") \n",
    "    elif a==2:\n",
    "        print(\"* \")\n",
    "    elif a==3:\n",
    "        print(\"*\")\n",
    "    elif a==4:\n",
    "        print(\"*\")\n",
    "    elif a==5:\n",
    "        print(\"* *  *  *  \")\n",
    "    elif a==6:\n",
    "        print(\"*        *  \")\n",
    "    elif a==7:\n",
    "        print(\"*        * \")\n",
    "    elif a==8:\n",
    "        print(\"*        * \")\n",
    "    elif a==9:\n",
    "        print(\"*        * \")\n",
    "    a=a+1"
   ]
  },
  {
   "cell_type": "code",
   "execution_count": 12,
   "id": "2ac8a222",
   "metadata": {},
   "outputs": [
    {
     "name": "stdout",
     "output_type": "stream",
     "text": [
      " * * *\n",
      "*     * \n",
      " * * *\n",
      "   \n",
      "   * \n",
      "   *   \n",
      "   * \n",
      "   * \n",
      "   * \n"
     ]
    }
   ],
   "source": [
    "for a in range(1,10):\n",
    "    if a==1:\n",
    "        print(\" * * *\") \n",
    "    elif a==2:\n",
    "        print(\"*     * \")\n",
    "    elif a==3:\n",
    "        print(\" * * *\")\n",
    "    elif a==4:\n",
    "        print(\"   \")\n",
    "    elif a==5:\n",
    "        print(\"   * \")\n",
    "    elif a==6:\n",
    "        print(\"   *   \")\n",
    "    elif a==7:\n",
    "        print(\"   * \")\n",
    "    elif a==8:\n",
    "        print(\"   * \")\n",
    "    elif a==9:\n",
    "        print(\"   * \")\n",
    "    a=a+1"
   ]
  },
  {
   "cell_type": "code",
   "execution_count": 238,
   "id": "27d46741",
   "metadata": {},
   "outputs": [
    {
     "name": "stdout",
     "output_type": "stream",
     "text": [
      "      * * *\n",
      "     *     * \n",
      "      * * *\n",
      "        \n",
      "        * \n",
      "        * \n",
      "        *   \n",
      " *      * \n",
      " *      * \n",
      "   * * *   \n"
     ]
    }
   ],
   "source": [
    "for a in range(1,11):\n",
    "    if a==1:\n",
    "        print(\"      * * *\") \n",
    "    elif a==2:\n",
    "        print(\"     *     * \")\n",
    "    elif a==3:\n",
    "        print(\"      * * *\")\n",
    "    elif a==4:\n",
    "        print(\"        \")\n",
    "    elif a==5:\n",
    "        print(\"        * \")\n",
    "    elif a==6:\n",
    "        print(\"        * \")\n",
    "    elif a==7:\n",
    "        print(\"        *   \")\n",
    "    elif a==8:\n",
    "        print(\" *      * \")\n",
    "    elif a==9:\n",
    "        print(\" *      * \")\n",
    "    elif a==10:\n",
    "        print(\"   * * *   \")\n",
    "    a=a+1    "
   ]
  },
  {
   "cell_type": "code",
   "execution_count": 15,
   "id": "c3e70034",
   "metadata": {},
   "outputs": [
    {
     "name": "stdout",
     "output_type": "stream",
     "text": [
      "*         *\n",
      "*     *\n",
      "*  *\n",
      "**   \n",
      "*   *\n",
      "*      *\n",
      "*         *\n"
     ]
    }
   ],
   "source": [
    "for a in range(1,10):\n",
    "    if a==1:\n",
    "        print(\"*         *\")\n",
    "    elif a==2:\n",
    "        print(\"*     *\")\n",
    "    elif a==3:\n",
    "         print(\"*  *\")\n",
    "    elif a==4:\n",
    "         print(\"**   \")\n",
    "    elif a==5: \n",
    "         print(\"*   *\")\n",
    "    elif a==6:\n",
    "         print(\"*      *\")\n",
    "    elif a==7:\n",
    "         print(\"*         *\")\n",
    "    a=a+1"
   ]
  },
  {
   "cell_type": "code",
   "execution_count": 2,
   "id": "702e5792",
   "metadata": {},
   "outputs": [
    {
     "name": "stdout",
     "output_type": "stream",
     "text": [
      "    * \n",
      "    *    \n",
      "    *   \n",
      "    *   \n",
      "    * \n",
      "    *     \n",
      "    *   *\n",
      "    * *   \n"
     ]
    }
   ],
   "source": [
    "for a in range(1,10):\n",
    "    if a==1:\n",
    "        print(\"    * \")\n",
    "    elif a==2:\n",
    "        print(\"    *    \")\n",
    "    elif a==3:\n",
    "         print(\"    *   \")\n",
    "    elif a==4:\n",
    "         print(\"    *   \")\n",
    "    elif a==5: \n",
    "         print(\"    * \")\n",
    "    elif a==6:\n",
    "         print(\"    *     \")\n",
    "    elif a==7:\n",
    "         print(\"    *   *\")\n",
    "    elif a==8: \n",
    "         print(\"    * *   \")\n",
    "    a=a+1"
   ]
  },
  {
   "cell_type": "code",
   "execution_count": 54,
   "id": "926c61d9",
   "metadata": {},
   "outputs": [
    {
     "name": "stdout",
     "output_type": "stream",
     "text": [
      "*\n",
      " *  * * * * *\n",
      " **    *     *\n",
      " *     *     *\n",
      " *     *     *\n",
      " *     *     *\n"
     ]
    }
   ],
   "source": [
    "for a in range(1,10):\n",
    "    if a==1:\n",
    "        print(\"*\")\n",
    "    elif a==2:\n",
    "        print(\" *  * * * * *\")\n",
    "    elif a==3: \n",
    "        print(\" **    *     *\")\n",
    "    elif a==4:\n",
    "        print(\" *     *     *\")\n",
    "    elif a==5:\n",
    "        print(\" *     *     *\")\n",
    "    elif a==6:\n",
    "        print(\" *     *     *\")\n",
    "    a=a+1\n"
   ]
  },
  {
   "cell_type": "code",
   "execution_count": 56,
   "id": "2ce5d751",
   "metadata": {},
   "outputs": [
    {
     "name": "stdout",
     "output_type": "stream",
     "text": [
      "*\n",
      " *  * * *\n",
      " **      *     \n",
      " *       *     \n",
      " *       *     \n",
      " *       *     \n"
     ]
    }
   ],
   "source": [
    "for a in range(1,10):\n",
    "    if a==1:\n",
    "        print(\"*\")\n",
    "    elif a==2:\n",
    "        print(\" *  * * *\")\n",
    "    elif a==3: \n",
    "        print(\" **      *     \")\n",
    "    elif a==4:\n",
    "        print(\" *       *     \")\n",
    "    elif a==5:\n",
    "        print(\" *       *     \")\n",
    "    elif a==6:\n",
    "        print(\" *       *     \")\n",
    "    a=a+1"
   ]
  },
  {
   "cell_type": "code",
   "execution_count": 17,
   "id": "20229668",
   "metadata": {},
   "outputs": [
    {
     "name": "stdout",
     "output_type": "stream",
     "text": [
      "  * * * *\n",
      "*         *\n",
      "*         *\n",
      "*         *\n",
      "*         *\n",
      "  * * * *\n"
     ]
    }
   ],
   "source": [
    "for a in range(1,10):\n",
    "    if a==1:\n",
    "        print(\"  * * * *\")\n",
    "    elif a==2:\n",
    "         print(\"*         *\")\n",
    "    elif a==3:\n",
    "         print(\"*         *\")\n",
    "    elif a==4: \n",
    "         print(\"*         *\")\n",
    "    elif a==5: \n",
    "         print(\"*         *\")\n",
    "    elif a==6:\n",
    "         print(\"  * * * *\")\n",
    "    a=a+1"
   ]
  },
  {
   "cell_type": "code",
   "execution_count": 7,
   "id": "e711db59",
   "metadata": {},
   "outputs": [
    {
     "name": "stdout",
     "output_type": "stream",
     "text": [
      "* * * *\n",
      "*      *\n",
      "* *  *\n",
      "*\n",
      "*\n",
      "*\n"
     ]
    }
   ],
   "source": [
    "for a in range(1,10):\n",
    "    if a==1:\n",
    "        print(\"* * * *\")\n",
    "    elif a==2:\n",
    "         print(\"*      *\")\n",
    "    elif a==3:\n",
    "         print(\"* *  *\")\n",
    "    elif a==4: \n",
    "         print(\"*\")\n",
    "    elif a==5: \n",
    "         print(\"*\")\n",
    "    elif a==6: \n",
    "         print(\"*\")\n",
    "    a=a+1"
   ]
  },
  {
   "cell_type": "code",
   "execution_count": 233,
   "id": "5357796a",
   "metadata": {},
   "outputs": [
    {
     "name": "stdout",
     "output_type": "stream",
     "text": [
      " * * *\n",
      "*    *\n",
      " * * *\n",
      "     *\n",
      "     *   \n",
      "     *  *\n",
      "      *\n"
     ]
    }
   ],
   "source": [
    "for a in range(1,10):\n",
    "    if a==1:\n",
    "        print(\" * * *\")\n",
    "    elif a==2:\n",
    "        print(\"*    *\")\n",
    "    elif a==3:\n",
    "        print(\" * * *\")\n",
    "    elif a==4:\n",
    "        print(\"     *\")\n",
    "    elif a==5:\n",
    "        print(\"     *   \")\n",
    "    elif a==6:\n",
    "        print(\"     *  *\")\n",
    "    elif a==7:\n",
    "        print(\"      *\")\n",
    "    a=a+1"
   ]
  },
  {
   "cell_type": "code",
   "execution_count": 103,
   "id": "543f18d4",
   "metadata": {},
   "outputs": [
    {
     "name": "stdout",
     "output_type": "stream",
     "text": [
      " *        *\n",
      "  *     *\n",
      "   *  *\n",
      "    *  \n",
      "  *   * \n",
      " *     *\n",
      " *     *\n",
      "  * * *\n"
     ]
    }
   ],
   "source": [
    "for a in range(1,10):\n",
    "    if a==1:\n",
    "        print(\" *        *\")\n",
    "    elif a==2:\n",
    "        print(\"  *     *\")\n",
    "    elif a==3:\n",
    "        print(\"   *  *\")\n",
    "    elif a==4:\n",
    "        print(\"    *  \")\n",
    "    elif a==5:\n",
    "        print(\"  *   * \")\n",
    "    elif a==6:\n",
    "        print(\" *     *\")\n",
    "    elif a==7:\n",
    "        print(\" *     *\")\n",
    "    elif a==8:\n",
    "        print(\"  * * *\")\n",
    "    a=a+1"
   ]
  },
  {
   "cell_type": "code",
   "execution_count": 111,
   "id": "073d72d4",
   "metadata": {},
   "outputs": [
    {
     "name": "stdout",
     "output_type": "stream",
     "text": [
      " * * * *\n",
      "*     \n",
      " * * * *\n",
      "        *\n",
      "* * *  * \n"
     ]
    }
   ],
   "source": [
    "for a in range(1,10):\n",
    "    if a==1:\n",
    "        print(\" * * * *\")\n",
    "    elif a==2:\n",
    "        print(\"*     \")\n",
    "    elif a==3:\n",
    "        print(\" * * * *\")\n",
    "    elif a==4:\n",
    "        print(\"        *\")\n",
    "    elif a==5:\n",
    "        print(\"* * *  * \")\n",
    "    a=a+1"
   ]
  },
  {
   "cell_type": "code",
   "execution_count": 115,
   "id": "cd77195e",
   "metadata": {},
   "outputs": [
    {
     "name": "stdout",
     "output_type": "stream",
     "text": [
      "       *\n",
      "       *     \n",
      "  * * * * * *\n",
      "       *\n",
      "       * \n",
      "       *       *\n",
      "       * * * * *\n"
     ]
    }
   ],
   "source": [
    "for a in range(1,10):\n",
    "    if a==1:\n",
    "        print(\"       *\")\n",
    "    elif a==2:\n",
    "        print(\"       *     \")\n",
    "    elif a==3:\n",
    "        print(\"  * * * * * *\")\n",
    "    elif a==4:\n",
    "        print(\"       *\")\n",
    "    elif a==5:\n",
    "        print(\"       * \")\n",
    "    elif a==6:\n",
    "        print(\"       *       *\")\n",
    "    elif a==7:\n",
    "        print(\"       * * * * *\")\n",
    "    a=a+1"
   ]
  },
  {
   "cell_type": "code",
   "execution_count": 134,
   "id": "c42e15ae",
   "metadata": {},
   "outputs": [
    {
     "name": "stdout",
     "output_type": "stream",
     "text": [
      "*      *\n",
      "*      *\n",
      "*      **\n",
      "*      * *  \n",
      " * *  *   *\n"
     ]
    }
   ],
   "source": [
    "for a in range(1,10):\n",
    "    if a==1:\n",
    "        print(\"*      *\")\n",
    "    elif a==2:\n",
    "        print(\"*      *\")\n",
    "    elif a==3:\n",
    "        print(\"*      **\")\n",
    "    elif a==4:\n",
    "        print(\"*      * *  \")\n",
    "    elif a==5:\n",
    "        print(\" * *  *   *\")\n",
    "    a=a+1"
   ]
  },
  {
   "cell_type": "code",
   "execution_count": 139,
   "id": "1a866cc6",
   "metadata": {},
   "outputs": [
    {
     "name": "stdout",
     "output_type": "stream",
     "text": [
      " *         *\n",
      "  *       *\n",
      "   *     *\n",
      "    *   *   \n",
      "     * *  \n"
     ]
    }
   ],
   "source": [
    "for a in range(1,10):\n",
    "    if a==1:\n",
    "        print(\" *         *\")\n",
    "    elif a==2:\n",
    "        print(\"  *       *\")\n",
    "    elif a==3:\n",
    "        print(\"   *     *\")\n",
    "    elif a==4:\n",
    "        print(\"    *   *   \")\n",
    "    elif a==5:\n",
    "        print(\"     * *  \")\n",
    "    a=a+1"
   ]
  },
  {
   "cell_type": "code",
   "execution_count": 149,
   "id": "22988eff",
   "metadata": {},
   "outputs": [
    {
     "name": "stdout",
     "output_type": "stream",
     "text": [
      "*         *\n",
      "*         *\n",
      "*    *    *\n",
      "*  *  *   *  \n",
      "  *      *  \n"
     ]
    }
   ],
   "source": [
    "for a in range(1,10):\n",
    "    if a==1:\n",
    "        print(\"*         *\")\n",
    "    elif a==2:\n",
    "        print(\"*         *\")\n",
    "    elif a==3:\n",
    "        print(\"*    *    *\")\n",
    "    elif a==4:\n",
    "        print(\"*  *  *   *  \")\n",
    "    elif a==5:\n",
    "        print(\"  *      *  \")\n",
    "    a=a+1"
   ]
  },
  {
   "cell_type": "code",
   "execution_count": 211,
   "id": "eb0f1c33",
   "metadata": {},
   "outputs": [
    {
     "name": "stdout",
     "output_type": "stream",
     "text": [
      "*  *       *  *\n",
      "     *   *    \n",
      "      * *    \n",
      "      * *\n",
      "     *   *  \n",
      "*  *       *  *\n"
     ]
    }
   ],
   "source": [
    "for a in range(1,10):\n",
    "    if a==1:\n",
    "        print(\"*  *       *  *\")\n",
    "    elif a==2:\n",
    "         print(\"     *   *    \")\n",
    "    elif a==3:\n",
    "         print(\"      * *    \")\n",
    "    elif a==4:\n",
    "         print(\"      * *\")\n",
    "    elif a==5:\n",
    "         print(\"     *   *  \")\n",
    "    elif a==6:\n",
    "         print(\"*  *       *  *\")\n",
    "    a=a+1"
   ]
  },
  {
   "cell_type": "code",
   "execution_count": 223,
   "id": "407cb71e",
   "metadata": {},
   "outputs": [
    {
     "name": "stdout",
     "output_type": "stream",
     "text": [
      "    *      *\n",
      "     *    * \n",
      "       * *  \n",
      "        *    \n",
      " *     *    \n",
      "  *  *\n"
     ]
    }
   ],
   "source": [
    "for a in range(1,10):\n",
    "    if a==1:\n",
    "        print(\"    *      *\")\n",
    "    elif a==2:\n",
    "         print(\"     *    * \")\n",
    "    elif a==3:\n",
    "         print(\"       * *  \")\n",
    "    elif a==4:\n",
    "         print(\"        *    \")\n",
    "    elif a==5:\n",
    "         print(\" *     *    \")\n",
    "    elif a==6:\n",
    "         print(\"  *  *\")\n",
    "    a=a+1"
   ]
  },
  {
   "cell_type": "code",
   "execution_count": 224,
   "id": "6e537c6e",
   "metadata": {},
   "outputs": [
    {
     "name": "stdout",
     "output_type": "stream",
     "text": [
      " * * * * *\n",
      "        *\n",
      "      * \n",
      "    *        \n",
      "  * * * * * * \n"
     ]
    }
   ],
   "source": [
    "for a in range(1,10):\n",
    "    if a==1:\n",
    "        print(\" * * * * *\")\n",
    "    elif a==2:\n",
    "         print(\"        *\")\n",
    "    elif a==3:\n",
    "         print(\"      * \")\n",
    "    elif a==4:\n",
    "         print(\"    *        \")\n",
    "    elif a==5:\n",
    "         print(\"  * * * * * * \")\n",
    "    a=a+1"
   ]
  },
  {
   "cell_type": "code",
   "execution_count": null,
   "id": "ec9cfdeb",
   "metadata": {},
   "outputs": [],
   "source": []
  }
 ],
 "metadata": {
  "kernelspec": {
   "display_name": "Python 3 (ipykernel)",
   "language": "python",
   "name": "python3"
  },
  "language_info": {
   "codemirror_mode": {
    "name": "ipython",
    "version": 3
   },
   "file_extension": ".py",
   "mimetype": "text/x-python",
   "name": "python",
   "nbconvert_exporter": "python",
   "pygments_lexer": "ipython3",
   "version": "3.9.13"
  }
 },
 "nbformat": 4,
 "nbformat_minor": 5
}
