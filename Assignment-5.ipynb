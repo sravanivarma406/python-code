{
 "cells": [
  {
   "cell_type": "code",
   "execution_count": 2,
   "id": "9efbb870",
   "metadata": {},
   "outputs": [],
   "source": [
    "#1.Define a function which will return Max of three numbers"
   ]
  },
  {
   "cell_type": "code",
   "execution_count": 1,
   "id": "bf115032",
   "metadata": {},
   "outputs": [],
   "source": [
    "def f_1(x,y,z):\n",
    "    return max(x,y,z)\n",
    "    "
   ]
  },
  {
   "cell_type": "code",
   "execution_count": 2,
   "id": "df891643",
   "metadata": {},
   "outputs": [
    {
     "data": {
      "text/plain": [
       "3"
      ]
     },
     "execution_count": 2,
     "metadata": {},
     "output_type": "execute_result"
    }
   ],
   "source": [
    "f_1(1,2,3)"
   ]
  },
  {
   "cell_type": "code",
   "execution_count": 35,
   "id": "c2041b32",
   "metadata": {},
   "outputs": [],
   "source": [
    "#2.Define a Python Function to reverse a string."
   ]
  },
  {
   "cell_type": "code",
   "execution_count": 4,
   "id": "06340029",
   "metadata": {},
   "outputs": [],
   "source": [
    "def f1(a):\n",
    "    r=a[::-1]\n",
    "    print(r)\n"
   ]
  },
  {
   "cell_type": "code",
   "execution_count": 6,
   "id": "e960111c",
   "metadata": {},
   "outputs": [
    {
     "name": "stdout",
     "output_type": "stream",
     "text": [
      "inavars\n"
     ]
    }
   ],
   "source": [
    "f1(\"sravani\")"
   ]
  },
  {
   "cell_type": "code",
   "execution_count": 54,
   "id": "d8a20ddf",
   "metadata": {},
   "outputs": [],
   "source": [
    "#3.Write a Python program to define a function that accepts 2 values and return its sum, subtraction and multiplication."
   ]
  },
  {
   "cell_type": "code",
   "execution_count": 7,
   "id": "45861276",
   "metadata": {},
   "outputs": [],
   "source": [
    "def f1(x,y):\n",
    "    print(\"{}+{}={}\".format(x,y,x+y))\n",
    "    print(\"{}-{}={}\".format(x,y,x-y))\n",
    "    print(\"{}*{}={}\".format(x,y,x*y))\n"
   ]
  },
  {
   "cell_type": "code",
   "execution_count": 8,
   "id": "6ca8af20",
   "metadata": {},
   "outputs": [
    {
     "name": "stdout",
     "output_type": "stream",
     "text": [
      "5+6=11\n",
      "5-6=-1\n",
      "5*6=30\n"
     ]
    }
   ],
   "source": [
    "f1(5,6)"
   ]
  },
  {
   "cell_type": "code",
   "execution_count": 81,
   "id": "ab092e1b",
   "metadata": {},
   "outputs": [],
   "source": [
    "#4.Define a function that accepts roll number and returns whether the student is present or absent."
   ]
  },
  {
   "cell_type": "code",
   "execution_count": 21,
   "id": "d40148e1",
   "metadata": {},
   "outputs": [],
   "source": [
    "students={1:\"sravani\",2:\"Anusha\",3:\"varma\",4:\"Sandeep\",5:\"Megha\"}\n",
    "def f1(*rollno):\n",
    "    keys=students.keys()\n",
    "    for a in keys:\n",
    "        if a in rollno:\n",
    "            print(\"{} is present\".format(students[a]))\n",
    "        else:\n",
    "            print(\"{} is absent\".format(students[a]))\n"
   ]
  },
  {
   "cell_type": "code",
   "execution_count": 24,
   "id": "237f4cf8",
   "metadata": {},
   "outputs": [
    {
     "name": "stdout",
     "output_type": "stream",
     "text": [
      "sravani is present\n",
      "Anusha is absent\n",
      "varma is present\n",
      "Sandeep is absent\n",
      "Megha is absent\n"
     ]
    }
   ],
   "source": [
    "f1(1,3)"
   ]
  },
  {
   "cell_type": "code",
   "execution_count": 132,
   "id": "9a94bc82",
   "metadata": {},
   "outputs": [],
   "source": [
    "#5.Define a function in python that accepts n values and returns the maximum of n numbers"
   ]
  },
  {
   "cell_type": "code",
   "execution_count": 28,
   "id": "c52149a0",
   "metadata": {},
   "outputs": [],
   "source": [
    "def f1(*a):\n",
    "    l=[]\n",
    "    for i in a:\n",
    "        l.append(i)\n",
    "        l.sort()\n",
    "        c=l[-1]\n",
    "    print(c)\n"
   ]
  },
  {
   "cell_type": "code",
   "execution_count": 29,
   "id": "5efa61f5",
   "metadata": {},
   "outputs": [
    {
     "name": "stdout",
     "output_type": "stream",
     "text": [
      "5\n"
     ]
    }
   ],
   "source": [
    "f1(1,2,3,4,5)"
   ]
  },
  {
   "cell_type": "code",
   "execution_count": 134,
   "id": "608d74be",
   "metadata": {},
   "outputs": [],
   "source": [
    "#6.Define a function which counts vowels and consonant in a word."
   ]
  },
  {
   "cell_type": "code",
   "execution_count": 30,
   "id": "a31bba45",
   "metadata": {},
   "outputs": [],
   "source": [
    "def f1(a):\n",
    "    vowels=(\"a\",\"e\",\"i\",\"o\",\"u\")\n",
    "    v=0\n",
    "    c=0\n",
    "    for x in a:\n",
    "        if x in vowels:\n",
    "            v=v+1\n",
    "        else:\n",
    "            c=c+1\n",
    "    print(\"The vowels in the given word:{}\".format(v))\n",
    "    print(\"The consonants in the given word:{}\".format(c))"
   ]
  },
  {
   "cell_type": "code",
   "execution_count": 31,
   "id": "0b5d43b1",
   "metadata": {},
   "outputs": [
    {
     "name": "stdout",
     "output_type": "stream",
     "text": [
      "The vowels in the given word:3\n",
      "The consonants in the given word:4\n"
     ]
    }
   ],
   "source": [
    "f1(\"sravani\")"
   ]
  },
  {
   "cell_type": "code",
   "execution_count": 33,
   "id": "811a52d7",
   "metadata": {},
   "outputs": [],
   "source": [
    "#7. Define a function that returns Factorial of a number"
   ]
  },
  {
   "cell_type": "code",
   "execution_count": 34,
   "id": "2af28af7",
   "metadata": {},
   "outputs": [],
   "source": [
    "def f1(a):\n",
    "    b=1\n",
    "    for a in range(1,a+1):\n",
    "        b=b*a\n",
    "    print(b)"
   ]
  },
  {
   "cell_type": "code",
   "execution_count": 35,
   "id": "4ded1fd7",
   "metadata": {},
   "outputs": [
    {
     "name": "stdout",
     "output_type": "stream",
     "text": [
      "120\n"
     ]
    }
   ],
   "source": [
    "f1(5)"
   ]
  },
  {
   "cell_type": "code",
   "execution_count": 36,
   "id": "2c417c1c",
   "metadata": {},
   "outputs": [],
   "source": [
    "#8. Define a function that accepts radius and returns the area of a circle."
   ]
  },
  {
   "cell_type": "code",
   "execution_count": 37,
   "id": "0ea14d17",
   "metadata": {},
   "outputs": [],
   "source": [
    "def f1(r):\n",
    "    a=0\n",
    "    p=3.14\n",
    "    if r>0:\n",
    "        a=p*r**2\n",
    "        print(a)\n"
   ]
  },
  {
   "cell_type": "code",
   "execution_count": 38,
   "id": "a6ec282f",
   "metadata": {},
   "outputs": [
    {
     "name": "stdout",
     "output_type": "stream",
     "text": [
      "78.5\n"
     ]
    }
   ],
   "source": [
    "f1(5)"
   ]
  },
  {
   "cell_type": "code",
   "execution_count": null,
   "id": "ce2ad227",
   "metadata": {},
   "outputs": [],
   "source": [
    "#9. Define a function that takes a number as a parameter and check the number is prime or not"
   ]
  },
  {
   "cell_type": "code",
   "execution_count": 39,
   "id": "43cc6928",
   "metadata": {},
   "outputs": [],
   "source": [
    "def f1(a):\n",
    "    b=0\n",
    "    for i in range(1,a):\n",
    "        b=b+1\n",
    "    if b>=2:\n",
    "        print(\"it is not a prime number\")\n",
    "    else:\n",
    "        print(\"it is a prime number\")\n",
    "     "
   ]
  },
  {
   "cell_type": "code",
   "execution_count": 40,
   "id": "1204bf97",
   "metadata": {},
   "outputs": [
    {
     "name": "stdout",
     "output_type": "stream",
     "text": [
      "it is not a prime number\n"
     ]
    }
   ],
   "source": [
    "f1(5)"
   ]
  },
  {
   "cell_type": "code",
   "execution_count": 41,
   "id": "018adb00",
   "metadata": {},
   "outputs": [],
   "source": [
    "#10. Mary wants to run a 25-mile marathon. When she attempts to sign up for the marathon, she notices the sign-up sheet doesn't \n",
    "#directly state the marathon's length. Instead, the marathon's length is listed in small, different portions. Help Mary find out how long \n",
    "#the marathon actually is. So create a function that"
   ]
  },
  {
   "cell_type": "code",
   "execution_count": 42,
   "id": "11e7736a",
   "metadata": {},
   "outputs": [],
   "source": [
    "def marathon(*km):\n",
    "    s=0\n",
    "    for i in km:\n",
    "        if i>0:\n",
    "            s=i+s\n",
    "        else:\n",
    "            i=i*(-1)\n",
    "            s+=i\n",
    "    if s==25:\n",
    "        print(\"True\")\n",
    "    else:\n",
    "        print(\"False\")"
   ]
  },
  {
   "cell_type": "code",
   "execution_count": 43,
   "id": "7a6aa9de",
   "metadata": {},
   "outputs": [
    {
     "name": "stdout",
     "output_type": "stream",
     "text": [
      "True\n"
     ]
    }
   ],
   "source": [
    "marathon(4,15,-6)"
   ]
  },
  {
   "cell_type": "code",
   "execution_count": 44,
   "id": "2f2935f8",
   "metadata": {},
   "outputs": [],
   "source": [
    "#11. Create a function that takes a number and returns True if the number is automorphic, False if it isn't."
   ]
  },
  {
   "cell_type": "code",
   "execution_count": 45,
   "id": "c26d9c53",
   "metadata": {},
   "outputs": [],
   "source": [
    "def automorphic(number):\n",
    "    square=number**2\n",
    "    s=str(square)\n",
    "    if s[-1]==str(number):\n",
    "        print(number,\"is an automorphic number\")\n",
    "    else:\n",
    "        print(number,\"is not an automorphic number\")\n"
   ]
  },
  {
   "cell_type": "code",
   "execution_count": 46,
   "id": "94031f0c",
   "metadata": {},
   "outputs": [
    {
     "name": "stdout",
     "output_type": "stream",
     "text": [
      "7 is not an automorphic number\n"
     ]
    }
   ],
   "source": [
    "automorphic(7)"
   ]
  },
  {
   "cell_type": "code",
   "execution_count": 51,
   "id": "99904f78",
   "metadata": {},
   "outputs": [],
   "source": [
    "#12) Create a function, that will take given a, b, c, and do the following: Add a to itself b times and Check if the result is divisible by c.\n",
    "# and return true if it is divisible by c or false"
   ]
  },
  {
   "cell_type": "code",
   "execution_count": 52,
   "id": "f6041fbb",
   "metadata": {},
   "outputs": [],
   "source": [
    "def f1(a,b,c):\n",
    "    x=[]\n",
    "    for num in range(b):\n",
    "        x.append(a)\n",
    "    if sum(x)%c==0:\n",
    "        return True\n",
    "    else:\n",
    "        return False"
   ]
  },
  {
   "cell_type": "code",
   "execution_count": 53,
   "id": "8778c10c",
   "metadata": {},
   "outputs": [
    {
     "data": {
      "text/plain": [
       "False"
      ]
     },
     "execution_count": 53,
     "metadata": {},
     "output_type": "execute_result"
    }
   ],
   "source": [
    "f1(3,5,2)"
   ]
  },
  {
   "cell_type": "code",
   "execution_count": 58,
   "id": "a6e77079",
   "metadata": {},
   "outputs": [],
   "source": [
    "#13) Create a function that changes specific words into emoticons.Given a sentence as a string, replace the words smile, grin, sad and mad \n",
    "#with their corresponding emoticons.smile :D, grin :), sad :( ,mad :P\n"
   ]
  },
  {
   "cell_type": "code",
   "execution_count": 59,
   "id": "71fc8ef9",
   "metadata": {},
   "outputs": [],
   "source": [
    "def functionname(a):\n",
    "    s=a.split()\n",
    "    dic={\"smile\":\":D\",\"grin\":\":)\",\"sad\":\":(\",\"mad\":\":P\"}\n",
    "    for items in s:\n",
    "        if items in dic.keys():\n",
    "            change=a.replace(items,dic[items])\n",
    "            print(change)\n"
   ]
  },
  {
   "cell_type": "code",
   "execution_count": 60,
   "id": "5f8eaff3",
   "metadata": {},
   "outputs": [
    {
     "name": "stdout",
     "output_type": "stream",
     "text": [
      "I am :(\n"
     ]
    }
   ],
   "source": [
    "functionname(\"I am sad\")\n"
   ]
  },
  {
   "cell_type": "code",
   "execution_count": null,
   "id": "db17a1f6",
   "metadata": {},
   "outputs": [],
   "source": []
  },
  {
   "cell_type": "code",
   "execution_count": 54,
   "id": "94a17e0c",
   "metadata": {},
   "outputs": [],
   "source": [
    "#14) Write a Python program to square and cube every number in a given list of integers using Lambda\n"
   ]
  },
  {
   "cell_type": "code",
   "execution_count": 55,
   "id": "6ce21e66",
   "metadata": {},
   "outputs": [
    {
     "name": "stdout",
     "output_type": "stream",
     "text": [
      "[16, 25, 36]\n",
      "[64, 125, 216]\n"
     ]
    }
   ],
   "source": [
    "x=list(map(lambda x:x**2,[4,5,6]))\n",
    "y=list(map(lambda y:y**3,[4,5,6]))\n",
    "print(x)\n",
    "print(y)"
   ]
  },
  {
   "cell_type": "code",
   "execution_count": null,
   "id": "e0e6d556",
   "metadata": {},
   "outputs": [],
   "source": [
    "#15)Write a Python program to check whether a given string is number or not using Lambda\n"
   ]
  },
  {
   "cell_type": "code",
   "execution_count": 56,
   "id": "0ad547a4",
   "metadata": {},
   "outputs": [],
   "source": [
    "def string(a):\n",
    "    if a.isdigit():\n",
    "        print(\"digit\")\n",
    "    elif a.isalpha():\n",
    "        print(\"string\")\n",
    "    else:\n",
    "        print(\"press anyone either digit or string\")\n"
   ]
  },
  {
   "cell_type": "code",
   "execution_count": 57,
   "id": "df351032",
   "metadata": {},
   "outputs": [
    {
     "name": "stdout",
     "output_type": "stream",
     "text": [
      "string\n"
     ]
    }
   ],
   "source": [
    "string(\"sra\")"
   ]
  },
  {
   "cell_type": "code",
   "execution_count": 61,
   "id": "41ea890f",
   "metadata": {},
   "outputs": [
    {
     "name": "stdout",
     "output_type": "stream",
     "text": [
      "digit\n"
     ]
    }
   ],
   "source": [
    "string(\"25656\")"
   ]
  },
  {
   "cell_type": "code",
   "execution_count": 62,
   "id": "e6dd18dd",
   "metadata": {},
   "outputs": [
    {
     "name": "stdout",
     "output_type": "stream",
     "text": [
      "press anyone either digit or string\n"
     ]
    }
   ],
   "source": [
    "string(\"s2rav5\")"
   ]
  },
  {
   "cell_type": "code",
   "execution_count": null,
   "id": "fed8af96",
   "metadata": {},
   "outputs": [],
   "source": []
  }
 ],
 "metadata": {
  "kernelspec": {
   "display_name": "Python 3 (ipykernel)",
   "language": "python",
   "name": "python3"
  },
  "language_info": {
   "codemirror_mode": {
    "name": "ipython",
    "version": 3
   },
   "file_extension": ".py",
   "mimetype": "text/x-python",
   "name": "python",
   "nbconvert_exporter": "python",
   "pygments_lexer": "ipython3",
   "version": "3.9.13"
  }
 },
 "nbformat": 4,
 "nbformat_minor": 5
}
