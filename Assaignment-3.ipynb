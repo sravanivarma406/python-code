{
 "cells": [
  {
   "cell_type": "code",
   "execution_count": 1,
   "id": "682c6125",
   "metadata": {},
   "outputs": [],
   "source": [
    "#1 Write a Python program that prints all the numbers from 0 to 6 except 3 and 6"
   ]
  },
  {
   "cell_type": "code",
   "execution_count": 27,
   "id": "cdd7ae3d",
   "metadata": {},
   "outputs": [
    {
     "name": "stdout",
     "output_type": "stream",
     "text": [
      "0\n",
      "1\n",
      "2\n",
      "4\n",
      "5\n"
     ]
    }
   ],
   "source": [
    "#for loop\n",
    "x=0\n",
    "for y in range(0,6):\n",
    "    if y==3:\n",
    "        continue\n",
    "    elif y==6:\n",
    "        continue\n",
    "    print(y)"
   ]
  },
  {
   "cell_type": "code",
   "execution_count": 31,
   "id": "eab2afbc",
   "metadata": {},
   "outputs": [
    {
     "name": "stdout",
     "output_type": "stream",
     "text": [
      "0\n",
      "1\n",
      "2\n",
      "4\n",
      "5\n"
     ]
    }
   ],
   "source": [
    "#while loop\n",
    "a=-1\n",
    "while a<6:\n",
    "    a=a+1\n",
    "    if a==3:\n",
    "        continue\n",
    "    elif a==6:\n",
    "        continue\n",
    "    print(a)\n",
    "    "
   ]
  },
  {
   "cell_type": "code",
   "execution_count": 32,
   "id": "4273d422",
   "metadata": {},
   "outputs": [],
   "source": [
    "#2 Write a program to accept a number from a user and calculate the sum of all numbers from 1 to a given number"
   ]
  },
  {
   "cell_type": "code",
   "execution_count": 44,
   "id": "5a8ae610",
   "metadata": {},
   "outputs": [
    {
     "name": "stdout",
     "output_type": "stream",
     "text": [
      "enter a number :4\n",
      "10\n"
     ]
    }
   ],
   "source": [
    "#for loop\n",
    "x=int(input(\"enter a number :\"))\n",
    "count=0\n",
    "for z in range(1,x+1):\n",
    "    count=count+z\n",
    "print(count)\n",
    "        "
   ]
  },
  {
   "cell_type": "code",
   "execution_count": 4,
   "id": "2fc32c67",
   "metadata": {},
   "outputs": [
    {
     "name": "stdout",
     "output_type": "stream",
     "text": [
      "enter a number: 4\n",
      "10\n"
     ]
    }
   ],
   "source": [
    "#while loop\n",
    "x=int(input(\"enter a number: \"))\n",
    "y=1\n",
    "z=0\n",
    "while y<(x+1):\n",
    "    z=z+y\n",
    "    y=y+1\n",
    "print(z) "
   ]
  },
  {
   "cell_type": "code",
   "execution_count": 3,
   "id": "1fa65faa",
   "metadata": {},
   "outputs": [],
   "source": [
    "#3 Write a program to print multiplication table of a given number(input)"
   ]
  },
  {
   "cell_type": "code",
   "execution_count": 9,
   "id": "89504a2b",
   "metadata": {},
   "outputs": [
    {
     "name": "stdout",
     "output_type": "stream",
     "text": [
      "enter a number :5\n",
      "enter a number :10\n",
      "5 * 1 = 5\n",
      "5 * 2 = 10\n",
      "5 * 3 = 15\n",
      "5 * 4 = 20\n",
      "5 * 5 = 25\n",
      "5 * 6 = 30\n",
      "5 * 7 = 35\n",
      "5 * 8 = 40\n",
      "5 * 9 = 45\n",
      "5 * 10 = 50\n"
     ]
    }
   ],
   "source": [
    "#for loop\n",
    "x=int(input(\"enter a number :\"))\n",
    "y=int(input(\"enter a number :\"))\n",
    "for z in range(1,y+1):\n",
    "    c=x*z\n",
    "    print(x,\"*\",z,\"=\",c)"
   ]
  },
  {
   "cell_type": "code",
   "execution_count": 1,
   "id": "20570fde",
   "metadata": {},
   "outputs": [
    {
     "name": "stdout",
     "output_type": "stream",
     "text": [
      "enter a number :5\n",
      "5 * 1 = 5\n",
      "5 * 2 = 10\n",
      "5 * 3 = 15\n",
      "5 * 4 = 20\n",
      "5 * 5 = 25\n",
      "5 * 6 = 30\n",
      "5 * 7 = 35\n",
      "5 * 8 = 40\n",
      "5 * 9 = 45\n",
      "5 * 10 = 50\n"
     ]
    }
   ],
   "source": [
    "#while loop\n",
    "x=int(input(\"enter a number :\"))\n",
    "y=1\n",
    "while y<=10:\n",
    "    print(x,\"*\",y,\"=\",x*y)\n",
    "    y=y+1"
   ]
  },
  {
   "cell_type": "code",
   "execution_count": 2,
   "id": "882f457f",
   "metadata": {},
   "outputs": [],
   "source": [
    "#4 Write a program to count the total number of digits in a number using a while loop.\n",
    "#For example, the number is 75869, so the output should be 5"
   ]
  },
  {
   "cell_type": "code",
   "execution_count": 12,
   "id": "ac1587c6",
   "metadata": {},
   "outputs": [
    {
     "name": "stdout",
     "output_type": "stream",
     "text": [
      "enter a number :12345\n",
      "5\n"
     ]
    }
   ],
   "source": [
    "#while loop\n",
    "x=input(\"enter a number :\")\n",
    "count=0\n",
    "z=len(x)\n",
    "while count<z:\n",
    "    count=count+1\n",
    "print(count)"
   ]
  },
  {
   "cell_type": "code",
   "execution_count": 10,
   "id": "ead9dd8f",
   "metadata": {},
   "outputs": [
    {
     "name": "stdout",
     "output_type": "stream",
     "text": [
      "enter a number :12345\n",
      "5\n"
     ]
    }
   ],
   "source": [
    "#for loop\n",
    "x=input(\"enter a number :\")\n",
    "count=0\n",
    "for y in x:\n",
    "    count=count+1\n",
    "print(count)\n"
   ]
  },
  {
   "cell_type": "code",
   "execution_count": 13,
   "id": "0f9c8151",
   "metadata": {},
   "outputs": [],
   "source": [
    "#5 Write a Python program to guess a number between 1 to 10"
   ]
  },
  {
   "cell_type": "code",
   "execution_count": 16,
   "id": "8c2f67d7",
   "metadata": {},
   "outputs": [
    {
     "name": "stdout",
     "output_type": "stream",
     "text": [
      "enter the number : 9\n",
      "guess a number:  4\n",
      "enter the number : 4\n",
      "not the correct guess\n",
      "enter the number : 9\n",
      "not the correct guess\n",
      "enter the number : 5\n",
      "not the correct guess\n",
      "enter the number : 4\n",
      "not the correct guess\n",
      "enter the number : 4\n",
      "not the correct guess\n",
      "enter the number : 5\n",
      "not the correct guess\n",
      "enter the number : 9\n",
      "not the correct guess\n",
      "enter the number : 4\n",
      "not the correct guess\n",
      "enter the number : 4\n",
      "not the correct guess\n"
     ]
    }
   ],
   "source": [
    "#for loop\n",
    "x=int(input(\"enter the number : \"))\n",
    "y=int(input(\"guess a number:  \"))\n",
    "z=range(1,10)\n",
    "for i in range z:\n",
    "    guess=int(input(\"enter the number : \"))\n",
    "    if z==guess:\n",
    "        print(\"Well guessed!\")\n",
    "        break;\n",
    "    else:\n",
    "        print(\"not the correct guess\") \n",
    "    "
   ]
  },
  {
   "cell_type": "code",
   "execution_count": 13,
   "id": "74bedc05",
   "metadata": {},
   "outputs": [
    {
     "name": "stdout",
     "output_type": "stream",
     "text": [
      "enter the number : 9\n",
      "guess a number:  4\n",
      "guess a number:  4\n",
      "guess a number:  9\n",
      "well guessed\n"
     ]
    }
   ],
   "source": [
    "#while loop\n",
    "x=int(input(\"enter the number : \"))\n",
    "y=int(input(\"guess a number:  \"))\n",
    "while x!=y:\n",
    "    y=int(input(\"guess a number:  \"))\n",
    "if x==y:\n",
    "    print(\"well guessed\")"
   ]
  },
  {
   "cell_type": "code",
   "execution_count": 14,
   "id": "eb8c598c",
   "metadata": {},
   "outputs": [],
   "source": [
    "#6 Write a Python program which iterates the integers from 1 to 60. For multiples of three print \"Fizz\" instead of the\n",
    "#number and for the multiples of five print \"Buzz\". For numbers which are multiples of both three and five print \"FizzBuzz\"."
   ]
  },
  {
   "cell_type": "code",
   "execution_count": 3,
   "id": "8839bc6f",
   "metadata": {},
   "outputs": [
    {
     "name": "stdout",
     "output_type": "stream",
     "text": [
      "1\n",
      "2\n",
      "fizz\n",
      "4\n",
      "Buzz\n",
      "fizz\n",
      "7\n",
      "8\n",
      "fizz\n",
      "Buzz\n",
      "11\n",
      "fizz\n",
      "13\n",
      "14\n",
      "fizzbuzz\n",
      "16\n",
      "17\n",
      "fizz\n",
      "19\n",
      "Buzz\n",
      "fizz\n",
      "22\n",
      "23\n",
      "fizz\n",
      "Buzz\n",
      "26\n",
      "fizz\n",
      "28\n",
      "29\n",
      "fizzbuzz\n",
      "31\n",
      "32\n",
      "fizz\n",
      "34\n",
      "Buzz\n",
      "fizz\n",
      "37\n",
      "38\n",
      "fizz\n",
      "Buzz\n",
      "41\n",
      "fizz\n",
      "43\n",
      "44\n",
      "fizzbuzz\n",
      "46\n",
      "47\n",
      "fizz\n",
      "49\n",
      "Buzz\n",
      "fizz\n",
      "52\n",
      "53\n",
      "fizz\n",
      "Buzz\n",
      "56\n",
      "fizz\n",
      "58\n",
      "59\n",
      "fizzbuzz\n"
     ]
    }
   ],
   "source": [
    "# while loop\n",
    "a=1\n",
    "while a<61:\n",
    "    if a%3==0 and a%5==0:\n",
    "        print(\"fizzbuzz\")\n",
    "    elif a%3==0:\n",
    "        print(\"fizz\")\n",
    "    elif a%5==0:\n",
    "        print(\"Buzz\")\n",
    "    else:\n",
    "        print(a)\n",
    "    a=a+1\n",
    "    "
   ]
  },
  {
   "cell_type": "code",
   "execution_count": 8,
   "id": "9f9bc90e",
   "metadata": {},
   "outputs": [
    {
     "name": "stdout",
     "output_type": "stream",
     "text": [
      "1\n",
      "2\n",
      "fizz\n",
      "4\n",
      "Buzz\n",
      "fizz\n",
      "7\n",
      "8\n",
      "fizz\n",
      "Buzz\n",
      "11\n",
      "fizz\n",
      "13\n",
      "14\n",
      "fizzbuzz\n",
      "16\n",
      "17\n",
      "fizz\n",
      "19\n",
      "Buzz\n",
      "fizz\n",
      "22\n",
      "23\n",
      "fizz\n",
      "Buzz\n",
      "26\n",
      "fizz\n",
      "28\n",
      "29\n",
      "fizzbuzz\n",
      "31\n",
      "32\n",
      "fizz\n",
      "34\n",
      "Buzz\n",
      "fizz\n",
      "37\n",
      "38\n",
      "fizz\n",
      "Buzz\n",
      "41\n",
      "fizz\n",
      "43\n",
      "44\n",
      "fizzbuzz\n",
      "46\n",
      "47\n",
      "fizz\n",
      "49\n",
      "Buzz\n",
      "fizz\n",
      "52\n",
      "53\n",
      "fizz\n",
      "Buzz\n",
      "56\n",
      "fizz\n",
      "58\n",
      "59\n",
      "fizzbuzz\n"
     ]
    }
   ],
   "source": [
    "#for loop\n",
    "for x in range(1,61):\n",
    "    if x%3==0 and x%5==0:\n",
    "        print(\"fizzbuzz\")\n",
    "    elif x%3==0:\n",
    "        print(\"fizz\")\n",
    "    elif x%5==0:\n",
    "        print(\"Buzz\")\n",
    "    else:\n",
    "        print(x)"
   ]
  },
  {
   "cell_type": "code",
   "execution_count": 1,
   "id": "b91b7526",
   "metadata": {},
   "outputs": [],
   "source": [
    "#7 Write a Python program that accepts a string and calculate the number of digits and letter \n",
    "#Example: Input Python 3.2 #Output Letters 6 Digits 2\n"
   ]
  },
  {
   "cell_type": "code",
   "execution_count": 49,
   "id": "97ea6798",
   "metadata": {},
   "outputs": [
    {
     "name": "stdout",
     "output_type": "stream",
     "text": [
      "Total letters found :- 7\n",
      "Total digits found :- 3\n"
     ]
    }
   ],
   "source": [
    "#for loop\n",
    "x=\"abcd123efg\"\n",
    "total_letters=0\n",
    "total_digits=0\n",
    "for y in x:\n",
    "    if y.isalpha():\n",
    "        total_letters+=1\n",
    "    else:\n",
    "        total_digits+=1\n",
    "        \n",
    "print(\"Total letters found :-\", total_letters)\n",
    "print(\"Total digits found :-\", total_digits)"
   ]
  },
  {
   "cell_type": "code",
   "execution_count": 1,
   "id": "df99216b",
   "metadata": {},
   "outputs": [
    {
     "name": "stdout",
     "output_type": "stream",
     "text": [
      "enter a string: 5432189sravani@123\n",
      "digit count 10\n",
      "letters count 7\n"
     ]
    }
   ],
   "source": [
    "#while loop\n",
    "s=input(\"enter a string: \")\n",
    "l=len(s)\n",
    "i=0\n",
    "l_count=0\n",
    "d_count=0\n",
    "while i<l:\n",
    "    if s[i].isdigit():\n",
    "        d_count+=1\n",
    "    elif s[i].isalpha():\n",
    "        l_count+=1\n",
    "    i=i+1\n",
    "print(\"digit count\",d_count)\n",
    "print(\"letters count\",l_count)"
   ]
  },
  {
   "cell_type": "code",
   "execution_count": 4,
   "id": "171e1df0",
   "metadata": {},
   "outputs": [],
   "source": [
    "#8 Write a Python program to check the validity of password input by users.\n",
    "#At least 1 letter between [a-z] and 1 letter between [A-Z]. \n",
    "#At least 1 number between [0-9]. \n",
    "#At least 1 character from [$#@].\n",
    "#Minimum length 6 characters.\n",
    "#Maximum length 16 character"
   ]
  },
  {
   "cell_type": "code",
   "execution_count": 1,
   "id": "e6451d21",
   "metadata": {},
   "outputs": [
    {
     "name": "stdout",
     "output_type": "stream",
     "text": [
      "Type the password to check validity: Sravani@123\n",
      "Password is valid\n"
     ]
    }
   ],
   "source": [
    "pwd=input(\"Type the password to check validity: \")\n",
    "lower=0\n",
    "upper=0\n",
    "number=0\n",
    "character=0\n",
    "y=0\n",
    "if len(pwd)<6 or len(pwd)>16 or pwd.isidentifier():\n",
    "    print(\"Password is invalid\")\n",
    "elif len(pwd)>=6 or len(pwd)<=16:\n",
    "    while y<len(pwd):\n",
    "        if pwd[y].isdigit():\n",
    "            number=number+1\n",
    "        elif pwd[y].isupper():\n",
    "            upper=upper+1\n",
    "        elif pwd[y].islower():\n",
    "            lower=lower+1\n",
    "        y=y+1\n",
    "    if number>=1 and upper>=1 and lower>=1:\n",
    "        print(\"Password is valid\")\n",
    "    else:\n",
    "        print(\"Password is invalid\")     "
   ]
  },
  {
   "cell_type": "code",
   "execution_count": 5,
   "id": "b2001b5f",
   "metadata": {},
   "outputs": [],
   "source": [
    "#9 Write a program in Python to reverse a word by using while loop"
   ]
  },
  {
   "cell_type": "code",
   "execution_count": 8,
   "id": "318dbff7",
   "metadata": {},
   "outputs": [
    {
     "name": "stdout",
     "output_type": "stream",
     "text": [
      "enter the name :sravani\n",
      "inavars\n"
     ]
    }
   ],
   "source": [
    "#for loop\n",
    "x=input(\"enter the name :\")\n",
    "a=\"\"\n",
    "for c in x:\n",
    "    a=c+a\n",
    "print(a)"
   ]
  },
  {
   "cell_type": "code",
   "execution_count": 4,
   "id": "df2c5a70",
   "metadata": {},
   "outputs": [
    {
     "name": "stdout",
     "output_type": "stream",
     "text": [
      "enter a word: sravani\n",
      "inavars\n"
     ]
    }
   ],
   "source": [
    "#while loop\n",
    "x=input(\"enter a word: \")\n",
    "l=len(w)\n",
    "y=1\n",
    "z=\"\"\n",
    "while y<=l:\n",
    "    z=z+x[l-y]\n",
    "    y=y+1\n",
    "print(z)"
   ]
  },
  {
   "cell_type": "code",
   "execution_count": 11,
   "id": "da5f029a",
   "metadata": {},
   "outputs": [],
   "source": [
    "#10 Write a program which takes 10 integers as input using loop and print their average value on the screen"
   ]
  },
  {
   "cell_type": "code",
   "execution_count": 7,
   "id": "d59270e0",
   "metadata": {},
   "outputs": [
    {
     "name": "stdout",
     "output_type": "stream",
     "text": [
      "enter an integer1\n",
      "enter an integer2\n",
      "enter an integer3\n",
      "enter an integer4\n",
      "enter an integer5\n",
      "enter an integer6\n",
      "enter an integer7\n",
      "enter an integer8\n",
      "enter an integer9\n",
      "enter an integer10\n",
      "5.5\n"
     ]
    }
   ],
   "source": [
    "#for loop\n",
    "s=0\n",
    "for h in range(0,10):\n",
    "    i=int(input(\"enter an integer\"))\n",
    "    s+=i\n",
    "print(s/10)"
   ]
  },
  {
   "cell_type": "code",
   "execution_count": 6,
   "id": "ba5767f2",
   "metadata": {},
   "outputs": [
    {
     "name": "stdout",
     "output_type": "stream",
     "text": [
      "enter an integer: 1\n",
      "enter an integer: 2\n",
      "enter an integer: 3\n",
      "enter an integer: 4\n",
      "enter an integer: 5\n",
      "enter an integer: 6\n",
      "enter an integer: 7\n",
      "enter an integer: 8\n",
      "enter an integer: 9\n",
      "enter an integer: 10\n",
      "5.5\n"
     ]
    }
   ],
   "source": [
    "#while loop\n",
    "s=0\n",
    "j=0\n",
    "while s<10:\n",
    "    i=input(\"enter an integer: \")\n",
    "    j+=int(i)\n",
    "    s+=1\n",
    "print(j/10)   "
   ]
  },
  {
   "cell_type": "code",
   "execution_count": 2,
   "id": "eeb74abb",
   "metadata": {},
   "outputs": [],
   "source": [
    "#11 Write a program which takes integer inputs from user until he/she presses “q” (Ask to press q to quit after every integer \n",
    "#input). Print average and product of all numbers."
   ]
  },
  {
   "cell_type": "code",
   "execution_count": 3,
   "id": "46ad54d6",
   "metadata": {},
   "outputs": [
    {
     "name": "stdout",
     "output_type": "stream",
     "text": [
      "Type the integer: 5\n",
      "Type q to quit: s\n",
      "Type the integer: 6\n",
      "Type q to quit: r\n",
      "Type the integer: 7\n",
      "Type q to quit: a\n",
      "Type the integer: 8\n",
      "Type q to quit: q\n",
      "Average of all the numbers is:  6.5\n",
      "Product of all the numbers is:  1680\n"
     ]
    }
   ],
   "source": [
    "y=\"l\"\n",
    "product=1\n",
    "total=0\n",
    "count=0\n",
    "while y!=\"q\":      \n",
    "    m=int(input(\"Type the integer: \"))\n",
    "    product=product*m\n",
    "    total=total+m\n",
    "    count=count+1\n",
    "    y=input(\"Type q to quit: \")\n",
    "print(\"Average of all the numbers is: \",total/count)\n",
    "print(\"Product of all the numbers is: \",product)"
   ]
  },
  {
   "cell_type": "code",
   "execution_count": 22,
   "id": "587f6fbe",
   "metadata": {},
   "outputs": [],
   "source": [
    "#12 Write a Python program which will remove all digits or any other characters from the string except alphabets\n",
    "#Example:\n",
    "#Input:\n",
    "#“asd12.asd22\"\n",
    "#Output:\n",
    "#'asdasd'\n"
   ]
  },
  {
   "cell_type": "code",
   "execution_count": 23,
   "id": "74e433d0",
   "metadata": {},
   "outputs": [
    {
     "name": "stdout",
     "output_type": "stream",
     "text": [
      "enter a string :ads12.asd22\n",
      "adsasd\n"
     ]
    }
   ],
   "source": [
    "#for loop\n",
    "x=input(\"enter a string :\")\n",
    "s=\"\"\n",
    "for a in x:\n",
    "    if a.isalpha():\n",
    "        s=s+a\n",
    "print(s)"
   ]
  },
  {
   "cell_type": "code",
   "execution_count": 12,
   "id": "8ec5faa8",
   "metadata": {},
   "outputs": [
    {
     "name": "stdout",
     "output_type": "stream",
     "text": [
      "enter the string: ads12.ads22\n",
      "adsads\n"
     ]
    }
   ],
   "source": [
    "#while loop\n",
    "a=input(\"enter the string: \")\n",
    "l=len(a)\n",
    "s=\"\"\n",
    "i=0\n",
    "while i<l:\n",
    "    if a[i].isalpha():\n",
    "        s=s+a[i]\n",
    "        s=\"\".join(s)\n",
    "    i+=1\n",
    "print(s) "
   ]
  },
  {
   "cell_type": "code",
   "execution_count": 24,
   "id": "5c12d36f",
   "metadata": {},
   "outputs": [],
   "source": [
    "#13 Write a python program to find the sum of all even numbers from 0 to 10"
   ]
  },
  {
   "cell_type": "code",
   "execution_count": 26,
   "id": "8c2a92d2",
   "metadata": {},
   "outputs": [
    {
     "name": "stdout",
     "output_type": "stream",
     "text": [
      "20\n"
     ]
    }
   ],
   "source": [
    "#for loop\n",
    "count=0\n",
    "for x in range(0,10):\n",
    "    if x%2==0:\n",
    "        count=count+x\n",
    "print(count)"
   ]
  },
  {
   "cell_type": "code",
   "execution_count": 11,
   "id": "713babb9",
   "metadata": {},
   "outputs": [
    {
     "name": "stdout",
     "output_type": "stream",
     "text": [
      "30\n"
     ]
    }
   ],
   "source": [
    "#while loop\n",
    "count=0\n",
    "count1=0\n",
    "while count<=10:\n",
    "    count=count+1\n",
    "    if count%2==0:\n",
    "        count1=count1+count\n",
    "print(count1)"
   ]
  },
  {
   "cell_type": "code",
   "execution_count": 27,
   "id": "44c9608a",
   "metadata": {},
   "outputs": [],
   "source": [
    "#14 Write a python program which will accept a digit and print All the numbers before it till 0\n",
    "#Example:\n",
    "#Input: \n",
    "#5\n",
    "#Output:\n",
    "#4\n",
    "#3\n",
    "#2\n",
    "#1\n",
    "#0"
   ]
  },
  {
   "cell_type": "code",
   "execution_count": 8,
   "id": "3dfdaefe",
   "metadata": {},
   "outputs": [
    {
     "name": "stdout",
     "output_type": "stream",
     "text": [
      "enter a digit: 10\n",
      "9\n",
      "8\n",
      "7\n",
      "6\n",
      "5\n",
      "4\n",
      "3\n",
      "2\n",
      "1\n",
      "0\n"
     ]
    }
   ],
   "source": [
    "#for loop\n",
    "x=int(input(\"enter a digit: \"))\n",
    "for y in range(1,x+1):\n",
    "    print(x-y) \n"
   ]
  },
  {
   "cell_type": "code",
   "execution_count": 29,
   "id": "2bdfe926",
   "metadata": {},
   "outputs": [
    {
     "name": "stdout",
     "output_type": "stream",
     "text": [
      "enter a digit :10\n",
      "9\n",
      "8\n",
      "7\n",
      "6\n",
      "5\n",
      "4\n",
      "3\n",
      "2\n",
      "1\n",
      "0\n"
     ]
    }
   ],
   "source": [
    "#while loop\n",
    "x=int(input(\"enter a digit :\"))\n",
    "c=0\n",
    "while x>c:\n",
    "    x=x-1\n",
    "    print(x)"
   ]
  },
  {
   "cell_type": "code",
   "execution_count": 61,
   "id": "51bc28ca",
   "metadata": {},
   "outputs": [],
   "source": [
    "#15 Create a dynamic calculator which will run continually till you press “c\""
   ]
  },
  {
   "cell_type": "code",
   "execution_count": 62,
   "id": "917be203",
   "metadata": {},
   "outputs": [
    {
     "name": "stdout",
     "output_type": "stream",
     "text": [
      "type a first number5\n",
      "type a second number5\n",
      "give an operator or c to exict+\n",
      "5+5=10\n",
      "type a first number5\n",
      "type a second number5\n",
      "give an operator or c to exict+\n",
      "5+5=10\n",
      "type a first number5\n",
      "type a second number5\n",
      "give an operator or c to exictc\n"
     ]
    }
   ],
   "source": [
    "#while loop\n",
    "z=\"a\"\n",
    "while z!=\"c\":\n",
    "    x=int(input(\"type a first number\"))\n",
    "    y=int(input(\"type a second number\"))\n",
    "    z=input(\"give an operator or c to exict\")\n",
    "    if z==\"+\":\n",
    "        print(\"{}+{}={}\".format(x,y,x+y))\n",
    "    elif z==\"-\":\n",
    "         print(\"{}-{}={}\".format(x,y,x-y))\n",
    "    elif z==\"*\":\n",
    "         print(\"{}*{}={}\".format(x,y,x*y))\n",
    "    elif z==\"/\":\n",
    "        print(\"{}/{}={}\".format(x,y,x/y))\n",
    "    elif z==\"%\":\n",
    "        print(\"{}%{}={}\".format(x,y,x%y))       \n"
   ]
  },
  {
   "cell_type": "code",
   "execution_count": null,
   "id": "8e8f17c6",
   "metadata": {},
   "outputs": [],
   "source": []
  }
 ],
 "metadata": {
  "kernelspec": {
   "display_name": "Python 3 (ipykernel)",
   "language": "python",
   "name": "python3"
  },
  "language_info": {
   "codemirror_mode": {
    "name": "ipython",
    "version": 3
   },
   "file_extension": ".py",
   "mimetype": "text/x-python",
   "name": "python",
   "nbconvert_exporter": "python",
   "pygments_lexer": "ipython3",
   "version": "3.9.13"
  }
 },
 "nbformat": 4,
 "nbformat_minor": 5
}
