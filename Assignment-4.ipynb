{
 "cells": [
  {
   "cell_type": "code",
   "execution_count": 1,
   "id": "7a7b88e7",
   "metadata": {},
   "outputs": [],
   "source": [
    "#1. Given a list of numbers, write a python program that returns a new list which Has all\n",
    "#duplicate elements removed. And is sorted in an increasing order.\n",
    "#Ex:\n",
    "#Input:\n",
    "#[2,1,3,4,2,3,3,2,7,9,8,7]\n",
    "#Output:\n",
    "#[1,2,3,4,7,8,9]"
   ]
  },
  {
   "cell_type": "code",
   "execution_count": 10,
   "id": "7af04e6a",
   "metadata": {},
   "outputs": [
    {
     "data": {
      "text/plain": [
       "[1, 2, 3, 4, 7, 8, 9]"
      ]
     },
     "execution_count": 10,
     "metadata": {},
     "output_type": "execute_result"
    }
   ],
   "source": [
    "l=[2,1,3,4,2,3,3,2,7,9,8,7]\n",
    "l.sort()\n",
    "s=set(l)\n",
    "x=list(s)\n",
    "x"
   ]
  },
  {
   "cell_type": "code",
   "execution_count": 8,
   "id": "9c3694df",
   "metadata": {},
   "outputs": [],
   "source": [
    "#2. Write a Python program where you will iterate over both keys and values in dictionaries"
   ]
  },
  {
   "cell_type": "code",
   "execution_count": 14,
   "id": "ca704609",
   "metadata": {},
   "outputs": [
    {
     "name": "stdout",
     "output_type": "stream",
     "text": [
      "sravani 1\n",
      "sandeep 2\n",
      "sunitha 3\n"
     ]
    }
   ],
   "source": [
    "dic={\"sravani\":\"1\",\"sandeep\":\"2\",\"sunitha\":\"3\"}\n",
    "for keys,values in dic.items():\n",
    "    print(keys,values)"
   ]
  },
  {
   "cell_type": "code",
   "execution_count": 12,
   "id": "c55a66e2",
   "metadata": {},
   "outputs": [],
   "source": [
    "#3. Write a Python program that takes a dictionary of student names and returns a list of student names in alphabetical order\n",
    "#Ex:\n",
    "#Input: \n",
    "#{“Student 1”: \"Tarun\", \"Student 2”: \"Manoj\", \"Student 3”: \"Gephi”}\n",
    "#Output:\n",
    " #[“Gephi”,” \n",
    "#Manoj”,” Tarun”]male"
   ]
  },
  {
   "cell_type": "code",
   "execution_count": 13,
   "id": "a6f553a6",
   "metadata": {},
   "outputs": [
    {
     "name": "stdout",
     "output_type": "stream",
     "text": [
      "['Gephi', 'Manoj', 'Tarun']\n"
     ]
    }
   ],
   "source": [
    "dic1={\"Student 1\": \"Tarun\", \"Student 2\": \"Manoj\" , \"Student 3\": \"Gephi\"}\n",
    "l1=[]\n",
    "for values in dic1.values():\n",
    "    l1.append(values)\n",
    "    l1.sort()\n",
    "print(l1)"
   ]
  },
  {
   "cell_type": "code",
   "execution_count": 15,
   "id": "879e5c23",
   "metadata": {},
   "outputs": [],
   "source": [
    "#4. Write a Python which returns a new list of Booleans, from a given number. \n",
    "#Iterating through the number one digit at a time, append True if the digit is 1 and False if it is 0.\n",
    "#Ex:\n",
    "#Input: “01001”\n",
    "#Output: [“False”, “True”, “False”,” False”,” True”"
   ]
  },
  {
   "cell_type": "code",
   "execution_count": 17,
   "id": "259d537c",
   "metadata": {},
   "outputs": [
    {
     "name": "stdout",
     "output_type": "stream",
     "text": [
      "enter the number101100101\n",
      "['True', 'False', 'True', 'True', 'False', 'False', 'True', 'False', 'True']\n"
     ]
    }
   ],
   "source": [
    "binary_numbers=input(\"enter the number\")\n",
    "l=[]\n",
    "for a in binary_numbers:\n",
    "    if a==\"1\":\n",
    "        l.append(\"True\")\n",
    "    elif a==\"0\":\n",
    "        l.append(\"False\")\n",
    "print(l)"
   ]
  },
  {
   "cell_type": "code",
   "execution_count": 18,
   "id": "92fdacd5",
   "metadata": {},
   "outputs": [],
   "source": [
    "#5.Write a Python program where you will return a dictionary where the keys will be the \n",
    "#character and the values will be the occurrence of the character in the string, and it \n",
    "#should for any string inputs (dynamic)\n",
    "#Ex:\n",
    "#Input: “my name is ame”\n",
    "#Output: {“m”:3,” y”:1,” n”:1,” a”:2,” e”:2,” i”:1,” s”:1}"
   ]
  },
  {
   "cell_type": "code",
   "execution_count": 21,
   "id": "3c1d4338",
   "metadata": {},
   "outputs": [
    {
     "name": "stdout",
     "output_type": "stream",
     "text": [
      "Enter the string : my name is ame\n",
      "{'m': 3, 'y': 1, 'n': 1, 'a': 2, 'e': 2, 'i': 1, 's': 1}\n"
     ]
    }
   ],
   "source": [
    "x=input(\"Enter the string : \")\n",
    "y=list(x)\n",
    "dict={}\n",
    "for i in y:\n",
    "    dict.update({i:x.count(i)})\n",
    "del dict[\" \"]\n",
    "print(dict)"
   ]
  },
  {
   "cell_type": "code",
   "execution_count": 22,
   "id": "b1a5083b",
   "metadata": {},
   "outputs": [],
   "source": [
    "#6.Given a dictionary containing the names and ages of a group of people, return the name of the oldest person\n",
    "#Ex:\n",
    "#Input: {\"Tmma\": 41, \"Ackes\": 45, \"myna\": 15, \"Benthon\": 29}\n",
    "#Output: “Ackes”"
   ]
  },
  {
   "cell_type": "code",
   "execution_count": 23,
   "id": "f36a3519",
   "metadata": {},
   "outputs": [
    {
     "name": "stdout",
     "output_type": "stream",
     "text": [
      "Ackes\n"
     ]
    }
   ],
   "source": [
    "dic={\"Tmma\": 41, \"Ackes\": 45, \"myna\": 15, \"Benthon\": 29}\n",
    "l=list(dic.values())\n",
    "l.sort()\n",
    "max=l[-1]\n",
    "for y,z in dic.items():\n",
    "    if dic[y]==max:\n",
    "        print(y)"
   ]
  },
  {
   "cell_type": "code",
   "execution_count": 24,
   "id": "d0894c20",
   "metadata": {},
   "outputs": [],
   "source": [
    "#7.Write a Python program to create a Rock, Paper, Scissor game, use two inputs for two players:\n",
    "#Conditions: -Rock beats Scissors, Scissors beats Paper, Paper beats Rock"
   ]
  },
  {
   "cell_type": "code",
   "execution_count": 25,
   "id": "d187b3d1",
   "metadata": {},
   "outputs": [
    {
     "name": "stdout",
     "output_type": "stream",
     "text": [
      " enter your choice paper\n",
      " enter your choice rock\n",
      "paper beats the rock x wins\n"
     ]
    }
   ],
   "source": [
    "x=input( \" enter your choice \" )\n",
    "y=input( \" enter your choice \" )\n",
    "if x==\"rock\" and y==\"rock\" or x==\"paper\" and y==\"paper\" or x==\"scissor\" and y==\"scissor\":\n",
    "    print(\"repeat the game again\")\n",
    "elif x==\"rock\" and y==\"paper\":\n",
    "    print(\"paper beats the rock y wins\")\n",
    "elif x==\"rock\" and y==\"scissor\":\n",
    "    print(\"rock beats the scissor x wins\")\n",
    "elif x==\"paper\" and y==\"scissor\" :\n",
    "    print(\"scissor beats the paper y wins\")  \n",
    "elif x==\"paper\" and y==\"rock\" :\n",
    "    print(\"paper beats the rock x wins\") \n",
    "elif x==\"scissor\" and y==\"rock\":\n",
    "    print(\"rock beats the scissor y wins\")\n",
    "elif x==\"scissor\" and y==\"paper\":\n",
    "    print(\"scissor beats the paper x wins\")\n",
    "else:\n",
    "    print(\"wrong\")"
   ]
  },
  {
   "cell_type": "code",
   "execution_count": 26,
   "id": "9291a0a5",
   "metadata": {},
   "outputs": [],
   "source": [
    "#8.Create a program that returns a list of items that you can afford in the store with the \n",
    "#money you have in your wallet. Create a dictionary with items as key and price as values\n",
    "#Ex:\n",
    "#Input: \n",
    "#{“water bottles”: “20”,” chips”:10,” Iphone”;49000“,” towel”:90,” pens”:58,” cake”;400}\n",
    "#Your wallet balance: -50\n",
    "#Output: [“water bottles”, “chips”]"
   ]
  },
  {
   "cell_type": "code",
   "execution_count": 27,
   "id": "c9d6330f",
   "metadata": {},
   "outputs": [
    {
     "name": "stdout",
     "output_type": "stream",
     "text": [
      "85\n",
      "['water bottles', 'chips', 'pens']\n"
     ]
    }
   ],
   "source": [
    "x={\"water bottles\": 20,\"chips\":10,\"Iphone\":49000, \"towel\":90,\"pens\":58,\"cake\":400}\n",
    "money=int(input())\n",
    "l=[]\n",
    "for y,z in x.items():\n",
    "    if z<=money:\n",
    "        l.append(y)\n",
    "print(l)"
   ]
  },
  {
   "cell_type": "code",
   "execution_count": 28,
   "id": "1b792617",
   "metadata": {},
   "outputs": [],
   "source": [
    "#9.Write a Python program to create a union of sets"
   ]
  },
  {
   "cell_type": "code",
   "execution_count": 33,
   "id": "7160113a",
   "metadata": {},
   "outputs": [
    {
     "data": {
      "text/plain": [
       "{1, 2, 3, 4, 5, 6, 7, 8, 9, 10, 11}"
      ]
     },
     "execution_count": 33,
     "metadata": {},
     "output_type": "execute_result"
    }
   ],
   "source": [
    "s1={1,2,3,4,5,6}\n",
    "s2={7,8,9,10,11}\n",
    "s1.union(s2)"
   ]
  },
  {
   "cell_type": "code",
   "execution_count": 34,
   "id": "362ae5de",
   "metadata": {},
   "outputs": [],
   "source": [
    "#10. Write a Python program to check if a given value is present in a set or not(Dynamic)"
   ]
  },
  {
   "cell_type": "code",
   "execution_count": 35,
   "id": "b049d44c",
   "metadata": {},
   "outputs": [
    {
     "name": "stdout",
     "output_type": "stream",
     "text": [
      "4\n",
      "value is present\n"
     ]
    }
   ],
   "source": [
    "set={1,2,3,4}\n",
    "x=int(input())\n",
    "for i in set:\n",
    "    if i==x:\n",
    "        print(\"value is present\")\n"
   ]
  },
  {
   "cell_type": "code",
   "execution_count": 36,
   "id": "4c3b17b5",
   "metadata": {},
   "outputs": [],
   "source": [
    "#11.Write a Python program to find the occurrences of 3 most common words in a given text. And make it as a dictionaries\n",
    "#Ex:\n",
    "#Input:\n",
    "#” Cat dog dog cat horse dog dog mouse horse dog mouse tiger lion tiger cat mouse snail”\n",
    "#Output: (“dog”:5,”cat”:3,” mouse”;3)"
   ]
  },
  {
   "cell_type": "code",
   "execution_count": 37,
   "id": "6be03537",
   "metadata": {},
   "outputs": [
    {
     "name": "stdout",
     "output_type": "stream",
     "text": [
      "{'cat': 3, 'dog': 5, 'mouse': 3}\n"
     ]
    }
   ],
   "source": [
    "text=\"cat dog dog cat horse dog dog mouse horse dog mouse tiger lion tiger cat mouse snail\"\n",
    "text1=text.split()\n",
    "text1\n",
    "l=[]\n",
    "dict={}\n",
    "for i in text1:\n",
    "    if text1.count(i)>2:\n",
    "        if i in dict:\n",
    "            dict[i]+=1\n",
    "        else:\n",
    "            dict[i]=1\n",
    "print(dict)"
   ]
  },
  {
   "cell_type": "code",
   "execution_count": 38,
   "id": "336e3971",
   "metadata": {},
   "outputs": [],
   "source": [
    "#12.Write a Python program that accepts name of given subject and mark, and \n",
    "#make subjects as keys in dictionaries and marks as values and print the final\n",
    "#dictionary with subjects and marks"
   ]
  },
  {
   "cell_type": "code",
   "execution_count": 40,
   "id": "b2906cea",
   "metadata": {},
   "outputs": [
    {
     "name": "stdout",
     "output_type": "stream",
     "text": [
      "{'Telugu': 61, 'Hindi': 79, 'English': 81, 'Math': 96}\n"
     ]
    }
   ],
   "source": [
    "list1=[\"Telugu\",\"Hindi\",\"English\",\"Math\"]\n",
    "list2=[61,79,81,96]\n",
    "dict1={}\n",
    "for i in range(len(list1)):\n",
    "    dict1.update({list1[i]:list2[i]})\n",
    "print(dict1)"
   ]
  }
 ],
 "metadata": {
  "kernelspec": {
   "display_name": "Python 3 (ipykernel)",
   "language": "python",
   "name": "python3"
  },
  "language_info": {
   "codemirror_mode": {
    "name": "ipython",
    "version": 3
   },
   "file_extension": ".py",
   "mimetype": "text/x-python",
   "name": "python",
   "nbconvert_exporter": "python",
   "pygments_lexer": "ipython3",
   "version": "3.9.13"
  }
 },
 "nbformat": 4,
 "nbformat_minor": 5
}
